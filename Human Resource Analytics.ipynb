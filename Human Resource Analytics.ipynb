{
 "cells": [
  {
   "cell_type": "markdown",
   "metadata": {},
   "source": [
    "# Importing the required packages "
   ]
  },
  {
   "cell_type": "code",
   "execution_count": 1,
   "metadata": {},
   "outputs": [],
   "source": [
    "import numpy as np # To handle the numbers\n",
    "import pandas as pd # To handle the dataset\n",
    "import matplotlib.pyplot as plt # To plot the graph\n",
    "import seaborn as sns\n",
    "%matplotlib inline\n",
    "\n",
    "# To ignore the warnings\n",
    "import warnings  \n",
    "warnings.filterwarnings('ignore')"
   ]
  },
  {
   "cell_type": "markdown",
   "metadata": {},
   "source": [
    "# Loading the Training and Testing CSV file as pandas dataframe"
   ]
  },
  {
   "cell_type": "code",
   "execution_count": 2,
   "metadata": {},
   "outputs": [],
   "source": [
    "train_ds = pd.read_csv(\"train_data.csv\")\n",
    "test_ds = pd.read_csv(\"test_data.csv\")"
   ]
  },
  {
   "cell_type": "code",
   "execution_count": 3,
   "metadata": {},
   "outputs": [
    {
     "data": {
      "text/html": [
       "<div>\n",
       "<style scoped>\n",
       "    .dataframe tbody tr th:only-of-type {\n",
       "        vertical-align: middle;\n",
       "    }\n",
       "\n",
       "    .dataframe tbody tr th {\n",
       "        vertical-align: top;\n",
       "    }\n",
       "\n",
       "    .dataframe thead th {\n",
       "        text-align: right;\n",
       "    }\n",
       "</style>\n",
       "<table border=\"1\" class=\"dataframe\">\n",
       "  <thead>\n",
       "    <tr style=\"text-align: right;\">\n",
       "      <th></th>\n",
       "      <th>employee_id</th>\n",
       "      <th>department</th>\n",
       "      <th>region</th>\n",
       "      <th>education</th>\n",
       "      <th>gender</th>\n",
       "      <th>recruitment_channel</th>\n",
       "      <th>no_of_trainings</th>\n",
       "      <th>age</th>\n",
       "      <th>previous_year_rating</th>\n",
       "      <th>length_of_service</th>\n",
       "      <th>KPIs_met &gt;80%</th>\n",
       "      <th>awards_won?</th>\n",
       "      <th>avg_training_score</th>\n",
       "      <th>is_promoted</th>\n",
       "    </tr>\n",
       "  </thead>\n",
       "  <tbody>\n",
       "    <tr>\n",
       "      <th>0</th>\n",
       "      <td>65438</td>\n",
       "      <td>Sales &amp; Marketing</td>\n",
       "      <td>region_7</td>\n",
       "      <td>Master's &amp; above</td>\n",
       "      <td>f</td>\n",
       "      <td>sourcing</td>\n",
       "      <td>1</td>\n",
       "      <td>35</td>\n",
       "      <td>5.0</td>\n",
       "      <td>8</td>\n",
       "      <td>1</td>\n",
       "      <td>0</td>\n",
       "      <td>49</td>\n",
       "      <td>0</td>\n",
       "    </tr>\n",
       "    <tr>\n",
       "      <th>1</th>\n",
       "      <td>65141</td>\n",
       "      <td>Operations</td>\n",
       "      <td>region_22</td>\n",
       "      <td>Bachelor's</td>\n",
       "      <td>m</td>\n",
       "      <td>other</td>\n",
       "      <td>1</td>\n",
       "      <td>30</td>\n",
       "      <td>5.0</td>\n",
       "      <td>4</td>\n",
       "      <td>0</td>\n",
       "      <td>0</td>\n",
       "      <td>60</td>\n",
       "      <td>0</td>\n",
       "    </tr>\n",
       "    <tr>\n",
       "      <th>2</th>\n",
       "      <td>7513</td>\n",
       "      <td>Sales &amp; Marketing</td>\n",
       "      <td>region_19</td>\n",
       "      <td>Bachelor's</td>\n",
       "      <td>m</td>\n",
       "      <td>sourcing</td>\n",
       "      <td>1</td>\n",
       "      <td>34</td>\n",
       "      <td>3.0</td>\n",
       "      <td>7</td>\n",
       "      <td>0</td>\n",
       "      <td>0</td>\n",
       "      <td>50</td>\n",
       "      <td>0</td>\n",
       "    </tr>\n",
       "    <tr>\n",
       "      <th>3</th>\n",
       "      <td>2542</td>\n",
       "      <td>Sales &amp; Marketing</td>\n",
       "      <td>region_23</td>\n",
       "      <td>Bachelor's</td>\n",
       "      <td>m</td>\n",
       "      <td>other</td>\n",
       "      <td>2</td>\n",
       "      <td>39</td>\n",
       "      <td>1.0</td>\n",
       "      <td>10</td>\n",
       "      <td>0</td>\n",
       "      <td>0</td>\n",
       "      <td>50</td>\n",
       "      <td>0</td>\n",
       "    </tr>\n",
       "    <tr>\n",
       "      <th>4</th>\n",
       "      <td>48945</td>\n",
       "      <td>Technology</td>\n",
       "      <td>region_26</td>\n",
       "      <td>Bachelor's</td>\n",
       "      <td>m</td>\n",
       "      <td>other</td>\n",
       "      <td>1</td>\n",
       "      <td>45</td>\n",
       "      <td>3.0</td>\n",
       "      <td>2</td>\n",
       "      <td>0</td>\n",
       "      <td>0</td>\n",
       "      <td>73</td>\n",
       "      <td>0</td>\n",
       "    </tr>\n",
       "  </tbody>\n",
       "</table>\n",
       "</div>"
      ],
      "text/plain": [
       "   employee_id         department     region         education gender  \\\n",
       "0        65438  Sales & Marketing   region_7  Master's & above      f   \n",
       "1        65141         Operations  region_22        Bachelor's      m   \n",
       "2         7513  Sales & Marketing  region_19        Bachelor's      m   \n",
       "3         2542  Sales & Marketing  region_23        Bachelor's      m   \n",
       "4        48945         Technology  region_26        Bachelor's      m   \n",
       "\n",
       "  recruitment_channel  no_of_trainings  age  previous_year_rating  \\\n",
       "0            sourcing                1   35                   5.0   \n",
       "1               other                1   30                   5.0   \n",
       "2            sourcing                1   34                   3.0   \n",
       "3               other                2   39                   1.0   \n",
       "4               other                1   45                   3.0   \n",
       "\n",
       "   length_of_service  KPIs_met >80%  awards_won?  avg_training_score  \\\n",
       "0                  8              1            0                  49   \n",
       "1                  4              0            0                  60   \n",
       "2                  7              0            0                  50   \n",
       "3                 10              0            0                  50   \n",
       "4                  2              0            0                  73   \n",
       "\n",
       "   is_promoted  \n",
       "0            0  \n",
       "1            0  \n",
       "2            0  \n",
       "3            0  \n",
       "4            0  "
      ]
     },
     "execution_count": 3,
     "metadata": {},
     "output_type": "execute_result"
    }
   ],
   "source": [
    "# Reading the 6 rows of the train dataset\n",
    "train_ds.head()"
   ]
  },
  {
   "cell_type": "code",
   "execution_count": 4,
   "metadata": {},
   "outputs": [
    {
     "data": {
      "text/html": [
       "<div>\n",
       "<style scoped>\n",
       "    .dataframe tbody tr th:only-of-type {\n",
       "        vertical-align: middle;\n",
       "    }\n",
       "\n",
       "    .dataframe tbody tr th {\n",
       "        vertical-align: top;\n",
       "    }\n",
       "\n",
       "    .dataframe thead th {\n",
       "        text-align: right;\n",
       "    }\n",
       "</style>\n",
       "<table border=\"1\" class=\"dataframe\">\n",
       "  <thead>\n",
       "    <tr style=\"text-align: right;\">\n",
       "      <th></th>\n",
       "      <th>employee_id</th>\n",
       "      <th>department</th>\n",
       "      <th>region</th>\n",
       "      <th>education</th>\n",
       "      <th>gender</th>\n",
       "      <th>recruitment_channel</th>\n",
       "      <th>no_of_trainings</th>\n",
       "      <th>age</th>\n",
       "      <th>previous_year_rating</th>\n",
       "      <th>length_of_service</th>\n",
       "      <th>KPIs_met &gt;80%</th>\n",
       "      <th>awards_won?</th>\n",
       "      <th>avg_training_score</th>\n",
       "    </tr>\n",
       "  </thead>\n",
       "  <tbody>\n",
       "    <tr>\n",
       "      <th>0</th>\n",
       "      <td>8724</td>\n",
       "      <td>Technology</td>\n",
       "      <td>region_26</td>\n",
       "      <td>Bachelor's</td>\n",
       "      <td>m</td>\n",
       "      <td>sourcing</td>\n",
       "      <td>1</td>\n",
       "      <td>24</td>\n",
       "      <td>NaN</td>\n",
       "      <td>1</td>\n",
       "      <td>1</td>\n",
       "      <td>0</td>\n",
       "      <td>77</td>\n",
       "    </tr>\n",
       "    <tr>\n",
       "      <th>1</th>\n",
       "      <td>74430</td>\n",
       "      <td>HR</td>\n",
       "      <td>region_4</td>\n",
       "      <td>Bachelor's</td>\n",
       "      <td>f</td>\n",
       "      <td>other</td>\n",
       "      <td>1</td>\n",
       "      <td>31</td>\n",
       "      <td>3.0</td>\n",
       "      <td>5</td>\n",
       "      <td>0</td>\n",
       "      <td>0</td>\n",
       "      <td>51</td>\n",
       "    </tr>\n",
       "    <tr>\n",
       "      <th>2</th>\n",
       "      <td>72255</td>\n",
       "      <td>Sales &amp; Marketing</td>\n",
       "      <td>region_13</td>\n",
       "      <td>Bachelor's</td>\n",
       "      <td>m</td>\n",
       "      <td>other</td>\n",
       "      <td>1</td>\n",
       "      <td>31</td>\n",
       "      <td>1.0</td>\n",
       "      <td>4</td>\n",
       "      <td>0</td>\n",
       "      <td>0</td>\n",
       "      <td>47</td>\n",
       "    </tr>\n",
       "    <tr>\n",
       "      <th>3</th>\n",
       "      <td>38562</td>\n",
       "      <td>Procurement</td>\n",
       "      <td>region_2</td>\n",
       "      <td>Bachelor's</td>\n",
       "      <td>f</td>\n",
       "      <td>other</td>\n",
       "      <td>3</td>\n",
       "      <td>31</td>\n",
       "      <td>2.0</td>\n",
       "      <td>9</td>\n",
       "      <td>0</td>\n",
       "      <td>0</td>\n",
       "      <td>65</td>\n",
       "    </tr>\n",
       "    <tr>\n",
       "      <th>4</th>\n",
       "      <td>64486</td>\n",
       "      <td>Finance</td>\n",
       "      <td>region_29</td>\n",
       "      <td>Bachelor's</td>\n",
       "      <td>m</td>\n",
       "      <td>sourcing</td>\n",
       "      <td>1</td>\n",
       "      <td>30</td>\n",
       "      <td>4.0</td>\n",
       "      <td>7</td>\n",
       "      <td>0</td>\n",
       "      <td>0</td>\n",
       "      <td>61</td>\n",
       "    </tr>\n",
       "  </tbody>\n",
       "</table>\n",
       "</div>"
      ],
      "text/plain": [
       "   employee_id         department     region   education gender  \\\n",
       "0         8724         Technology  region_26  Bachelor's      m   \n",
       "1        74430                 HR   region_4  Bachelor's      f   \n",
       "2        72255  Sales & Marketing  region_13  Bachelor's      m   \n",
       "3        38562        Procurement   region_2  Bachelor's      f   \n",
       "4        64486            Finance  region_29  Bachelor's      m   \n",
       "\n",
       "  recruitment_channel  no_of_trainings  age  previous_year_rating  \\\n",
       "0            sourcing                1   24                   NaN   \n",
       "1               other                1   31                   3.0   \n",
       "2               other                1   31                   1.0   \n",
       "3               other                3   31                   2.0   \n",
       "4            sourcing                1   30                   4.0   \n",
       "\n",
       "   length_of_service  KPIs_met >80%  awards_won?  avg_training_score  \n",
       "0                  1              1            0                  77  \n",
       "1                  5              0            0                  51  \n",
       "2                  4              0            0                  47  \n",
       "3                  9              0            0                  65  \n",
       "4                  7              0            0                  61  "
      ]
     },
     "execution_count": 4,
     "metadata": {},
     "output_type": "execute_result"
    }
   ],
   "source": [
    "# Reading the 6 rows of the test dataset\n",
    "test_ds.head()"
   ]
  },
  {
   "cell_type": "code",
   "execution_count": 5,
   "metadata": {},
   "outputs": [
    {
     "name": "stdout",
     "output_type": "stream",
     "text": [
      "<class 'pandas.core.frame.DataFrame'>\n",
      "RangeIndex: 54808 entries, 0 to 54807\n",
      "Data columns (total 14 columns):\n",
      " #   Column                Non-Null Count  Dtype  \n",
      "---  ------                --------------  -----  \n",
      " 0   employee_id           54808 non-null  int64  \n",
      " 1   department            54808 non-null  object \n",
      " 2   region                54808 non-null  object \n",
      " 3   education             52399 non-null  object \n",
      " 4   gender                54808 non-null  object \n",
      " 5   recruitment_channel   54808 non-null  object \n",
      " 6   no_of_trainings       54808 non-null  int64  \n",
      " 7   age                   54808 non-null  int64  \n",
      " 8   previous_year_rating  50684 non-null  float64\n",
      " 9   length_of_service     54808 non-null  int64  \n",
      " 10  KPIs_met >80%         54808 non-null  int64  \n",
      " 11  awards_won?           54808 non-null  int64  \n",
      " 12  avg_training_score    54808 non-null  int64  \n",
      " 13  is_promoted           54808 non-null  int64  \n",
      "dtypes: float64(1), int64(8), object(5)\n",
      "memory usage: 5.9+ MB\n"
     ]
    }
   ],
   "source": [
    "# To know the information of train_dataset\n",
    "train_ds.info()"
   ]
  },
  {
   "cell_type": "code",
   "execution_count": 6,
   "metadata": {},
   "outputs": [
    {
     "name": "stdout",
     "output_type": "stream",
     "text": [
      "<class 'pandas.core.frame.DataFrame'>\n",
      "RangeIndex: 23490 entries, 0 to 23489\n",
      "Data columns (total 13 columns):\n",
      " #   Column                Non-Null Count  Dtype  \n",
      "---  ------                --------------  -----  \n",
      " 0   employee_id           23490 non-null  int64  \n",
      " 1   department            23490 non-null  object \n",
      " 2   region                23490 non-null  object \n",
      " 3   education             22456 non-null  object \n",
      " 4   gender                23490 non-null  object \n",
      " 5   recruitment_channel   23490 non-null  object \n",
      " 6   no_of_trainings       23490 non-null  int64  \n",
      " 7   age                   23490 non-null  int64  \n",
      " 8   previous_year_rating  21678 non-null  float64\n",
      " 9   length_of_service     23490 non-null  int64  \n",
      " 10  KPIs_met >80%         23490 non-null  int64  \n",
      " 11  awards_won?           23490 non-null  int64  \n",
      " 12  avg_training_score    23490 non-null  int64  \n",
      "dtypes: float64(1), int64(7), object(5)\n",
      "memory usage: 2.3+ MB\n"
     ]
    }
   ],
   "source": [
    "# To know the information of test_dataset\n",
    "test_ds.info()"
   ]
  },
  {
   "cell_type": "code",
   "execution_count": 7,
   "metadata": {},
   "outputs": [
    {
     "data": {
      "text/plain": [
       "(54808, 14)"
      ]
     },
     "execution_count": 7,
     "metadata": {},
     "output_type": "execute_result"
    }
   ],
   "source": [
    "# shape of train dataset (rows,columns)\n",
    "train_ds.shape"
   ]
  },
  {
   "cell_type": "code",
   "execution_count": 8,
   "metadata": {},
   "outputs": [
    {
     "data": {
      "text/plain": [
       "(23490, 13)"
      ]
     },
     "execution_count": 8,
     "metadata": {},
     "output_type": "execute_result"
    }
   ],
   "source": [
    "# shape of test dataset (rows,columns)\n",
    "test_ds.shape"
   ]
  },
  {
   "cell_type": "code",
   "execution_count": 9,
   "metadata": {},
   "outputs": [],
   "source": [
    "# Reading the target variable\n",
    "target = train_ds[\"is_promoted\"]\n"
   ]
  },
  {
   "cell_type": "code",
   "execution_count": 10,
   "metadata": {},
   "outputs": [
    {
     "data": {
      "text/plain": [
       "0    50140\n",
       "1     4668\n",
       "Name: is_promoted, dtype: int64"
      ]
     },
     "execution_count": 10,
     "metadata": {},
     "output_type": "execute_result"
    }
   ],
   "source": [
    "# Count of each catergory in \"is_promoted\" column\n",
    "\n",
    "target.value_counts()"
   ]
  },
  {
   "cell_type": "markdown",
   "metadata": {},
   "source": [
    "# Explanation :\n",
    "There are 14 columns including target variable in our train dataset and also we would able to see some of the missing values. Here \"is_promoted\" is our target variable and also we have 13 columns in our test dataset"
   ]
  },
  {
   "cell_type": "code",
   "execution_count": 11,
   "metadata": {},
   "outputs": [],
   "source": [
    "# Dropping the 2 columns (\"is_promoted\",\"employee_id\") from train dataset\n",
    "train_ds.drop(columns=[\"is_promoted\", \"employee_id\"], axis=0, inplace=True)\n",
    "\n",
    "# Dropping the column(\"employee_id\") from test dataset\n",
    "test_ds.drop(columns=[\"employee_id\"], axis=0, inplace=True)\n",
    "\n"
   ]
  },
  {
   "cell_type": "code",
   "execution_count": 12,
   "metadata": {},
   "outputs": [
    {
     "data": {
      "text/html": [
       "<div>\n",
       "<style scoped>\n",
       "    .dataframe tbody tr th:only-of-type {\n",
       "        vertical-align: middle;\n",
       "    }\n",
       "\n",
       "    .dataframe tbody tr th {\n",
       "        vertical-align: top;\n",
       "    }\n",
       "\n",
       "    .dataframe thead th {\n",
       "        text-align: right;\n",
       "    }\n",
       "</style>\n",
       "<table border=\"1\" class=\"dataframe\">\n",
       "  <thead>\n",
       "    <tr style=\"text-align: right;\">\n",
       "      <th></th>\n",
       "      <th>no_of_trainings</th>\n",
       "      <th>age</th>\n",
       "      <th>previous_year_rating</th>\n",
       "      <th>length_of_service</th>\n",
       "      <th>KPIs_met &gt;80%</th>\n",
       "      <th>awards_won?</th>\n",
       "      <th>avg_training_score</th>\n",
       "    </tr>\n",
       "  </thead>\n",
       "  <tbody>\n",
       "    <tr>\n",
       "      <th>count</th>\n",
       "      <td>54808.000000</td>\n",
       "      <td>54808.000000</td>\n",
       "      <td>50684.000000</td>\n",
       "      <td>54808.000000</td>\n",
       "      <td>54808.000000</td>\n",
       "      <td>54808.000000</td>\n",
       "      <td>54808.000000</td>\n",
       "    </tr>\n",
       "    <tr>\n",
       "      <th>mean</th>\n",
       "      <td>1.253011</td>\n",
       "      <td>34.803915</td>\n",
       "      <td>3.329256</td>\n",
       "      <td>5.865512</td>\n",
       "      <td>0.351974</td>\n",
       "      <td>0.023172</td>\n",
       "      <td>63.386750</td>\n",
       "    </tr>\n",
       "    <tr>\n",
       "      <th>std</th>\n",
       "      <td>0.609264</td>\n",
       "      <td>7.660169</td>\n",
       "      <td>1.259993</td>\n",
       "      <td>4.265094</td>\n",
       "      <td>0.477590</td>\n",
       "      <td>0.150450</td>\n",
       "      <td>13.371559</td>\n",
       "    </tr>\n",
       "    <tr>\n",
       "      <th>min</th>\n",
       "      <td>1.000000</td>\n",
       "      <td>20.000000</td>\n",
       "      <td>1.000000</td>\n",
       "      <td>1.000000</td>\n",
       "      <td>0.000000</td>\n",
       "      <td>0.000000</td>\n",
       "      <td>39.000000</td>\n",
       "    </tr>\n",
       "    <tr>\n",
       "      <th>25%</th>\n",
       "      <td>1.000000</td>\n",
       "      <td>29.000000</td>\n",
       "      <td>3.000000</td>\n",
       "      <td>3.000000</td>\n",
       "      <td>0.000000</td>\n",
       "      <td>0.000000</td>\n",
       "      <td>51.000000</td>\n",
       "    </tr>\n",
       "    <tr>\n",
       "      <th>50%</th>\n",
       "      <td>1.000000</td>\n",
       "      <td>33.000000</td>\n",
       "      <td>3.000000</td>\n",
       "      <td>5.000000</td>\n",
       "      <td>0.000000</td>\n",
       "      <td>0.000000</td>\n",
       "      <td>60.000000</td>\n",
       "    </tr>\n",
       "    <tr>\n",
       "      <th>75%</th>\n",
       "      <td>1.000000</td>\n",
       "      <td>39.000000</td>\n",
       "      <td>4.000000</td>\n",
       "      <td>7.000000</td>\n",
       "      <td>1.000000</td>\n",
       "      <td>0.000000</td>\n",
       "      <td>76.000000</td>\n",
       "    </tr>\n",
       "    <tr>\n",
       "      <th>max</th>\n",
       "      <td>10.000000</td>\n",
       "      <td>60.000000</td>\n",
       "      <td>5.000000</td>\n",
       "      <td>37.000000</td>\n",
       "      <td>1.000000</td>\n",
       "      <td>1.000000</td>\n",
       "      <td>99.000000</td>\n",
       "    </tr>\n",
       "  </tbody>\n",
       "</table>\n",
       "</div>"
      ],
      "text/plain": [
       "       no_of_trainings           age  previous_year_rating  length_of_service  \\\n",
       "count     54808.000000  54808.000000          50684.000000       54808.000000   \n",
       "mean          1.253011     34.803915              3.329256           5.865512   \n",
       "std           0.609264      7.660169              1.259993           4.265094   \n",
       "min           1.000000     20.000000              1.000000           1.000000   \n",
       "25%           1.000000     29.000000              3.000000           3.000000   \n",
       "50%           1.000000     33.000000              3.000000           5.000000   \n",
       "75%           1.000000     39.000000              4.000000           7.000000   \n",
       "max          10.000000     60.000000              5.000000          37.000000   \n",
       "\n",
       "       KPIs_met >80%   awards_won?  avg_training_score  \n",
       "count   54808.000000  54808.000000        54808.000000  \n",
       "mean        0.351974      0.023172           63.386750  \n",
       "std         0.477590      0.150450           13.371559  \n",
       "min         0.000000      0.000000           39.000000  \n",
       "25%         0.000000      0.000000           51.000000  \n",
       "50%         0.000000      0.000000           60.000000  \n",
       "75%         1.000000      0.000000           76.000000  \n",
       "max         1.000000      1.000000           99.000000  "
      ]
     },
     "execution_count": 12,
     "metadata": {},
     "output_type": "execute_result"
    }
   ],
   "source": [
    "# Summary of train dataset\n",
    "train_ds.describe()"
   ]
  },
  {
   "cell_type": "code",
   "execution_count": 13,
   "metadata": {},
   "outputs": [
    {
     "data": {
      "text/html": [
       "<div>\n",
       "<style scoped>\n",
       "    .dataframe tbody tr th:only-of-type {\n",
       "        vertical-align: middle;\n",
       "    }\n",
       "\n",
       "    .dataframe tbody tr th {\n",
       "        vertical-align: top;\n",
       "    }\n",
       "\n",
       "    .dataframe thead th {\n",
       "        text-align: right;\n",
       "    }\n",
       "</style>\n",
       "<table border=\"1\" class=\"dataframe\">\n",
       "  <thead>\n",
       "    <tr style=\"text-align: right;\">\n",
       "      <th></th>\n",
       "      <th>no_of_trainings</th>\n",
       "      <th>age</th>\n",
       "      <th>previous_year_rating</th>\n",
       "      <th>length_of_service</th>\n",
       "      <th>KPIs_met &gt;80%</th>\n",
       "      <th>awards_won?</th>\n",
       "      <th>avg_training_score</th>\n",
       "    </tr>\n",
       "  </thead>\n",
       "  <tbody>\n",
       "    <tr>\n",
       "      <th>count</th>\n",
       "      <td>23490.000000</td>\n",
       "      <td>23490.000000</td>\n",
       "      <td>21678.000000</td>\n",
       "      <td>23490.000000</td>\n",
       "      <td>23490.000000</td>\n",
       "      <td>23490.000000</td>\n",
       "      <td>23490.000000</td>\n",
       "    </tr>\n",
       "    <tr>\n",
       "      <th>mean</th>\n",
       "      <td>1.254236</td>\n",
       "      <td>34.782929</td>\n",
       "      <td>3.339146</td>\n",
       "      <td>5.810387</td>\n",
       "      <td>0.358834</td>\n",
       "      <td>0.022776</td>\n",
       "      <td>63.263133</td>\n",
       "    </tr>\n",
       "    <tr>\n",
       "      <th>std</th>\n",
       "      <td>0.600910</td>\n",
       "      <td>7.679492</td>\n",
       "      <td>1.263294</td>\n",
       "      <td>4.207917</td>\n",
       "      <td>0.479668</td>\n",
       "      <td>0.149191</td>\n",
       "      <td>13.411750</td>\n",
       "    </tr>\n",
       "    <tr>\n",
       "      <th>min</th>\n",
       "      <td>1.000000</td>\n",
       "      <td>20.000000</td>\n",
       "      <td>1.000000</td>\n",
       "      <td>1.000000</td>\n",
       "      <td>0.000000</td>\n",
       "      <td>0.000000</td>\n",
       "      <td>39.000000</td>\n",
       "    </tr>\n",
       "    <tr>\n",
       "      <th>25%</th>\n",
       "      <td>1.000000</td>\n",
       "      <td>29.000000</td>\n",
       "      <td>3.000000</td>\n",
       "      <td>3.000000</td>\n",
       "      <td>0.000000</td>\n",
       "      <td>0.000000</td>\n",
       "      <td>51.000000</td>\n",
       "    </tr>\n",
       "    <tr>\n",
       "      <th>50%</th>\n",
       "      <td>1.000000</td>\n",
       "      <td>33.000000</td>\n",
       "      <td>3.000000</td>\n",
       "      <td>5.000000</td>\n",
       "      <td>0.000000</td>\n",
       "      <td>0.000000</td>\n",
       "      <td>60.000000</td>\n",
       "    </tr>\n",
       "    <tr>\n",
       "      <th>75%</th>\n",
       "      <td>1.000000</td>\n",
       "      <td>39.000000</td>\n",
       "      <td>4.000000</td>\n",
       "      <td>7.000000</td>\n",
       "      <td>1.000000</td>\n",
       "      <td>0.000000</td>\n",
       "      <td>76.000000</td>\n",
       "    </tr>\n",
       "    <tr>\n",
       "      <th>max</th>\n",
       "      <td>9.000000</td>\n",
       "      <td>60.000000</td>\n",
       "      <td>5.000000</td>\n",
       "      <td>34.000000</td>\n",
       "      <td>1.000000</td>\n",
       "      <td>1.000000</td>\n",
       "      <td>99.000000</td>\n",
       "    </tr>\n",
       "  </tbody>\n",
       "</table>\n",
       "</div>"
      ],
      "text/plain": [
       "       no_of_trainings           age  previous_year_rating  length_of_service  \\\n",
       "count     23490.000000  23490.000000          21678.000000       23490.000000   \n",
       "mean          1.254236     34.782929              3.339146           5.810387   \n",
       "std           0.600910      7.679492              1.263294           4.207917   \n",
       "min           1.000000     20.000000              1.000000           1.000000   \n",
       "25%           1.000000     29.000000              3.000000           3.000000   \n",
       "50%           1.000000     33.000000              3.000000           5.000000   \n",
       "75%           1.000000     39.000000              4.000000           7.000000   \n",
       "max           9.000000     60.000000              5.000000          34.000000   \n",
       "\n",
       "       KPIs_met >80%   awards_won?  avg_training_score  \n",
       "count   23490.000000  23490.000000        23490.000000  \n",
       "mean        0.358834      0.022776           63.263133  \n",
       "std         0.479668      0.149191           13.411750  \n",
       "min         0.000000      0.000000           39.000000  \n",
       "25%         0.000000      0.000000           51.000000  \n",
       "50%         0.000000      0.000000           60.000000  \n",
       "75%         1.000000      0.000000           76.000000  \n",
       "max         1.000000      1.000000           99.000000  "
      ]
     },
     "execution_count": 13,
     "metadata": {},
     "output_type": "execute_result"
    }
   ],
   "source": [
    "# summary of test dataset\n",
    "test_ds.describe()"
   ]
  },
  {
   "cell_type": "code",
   "execution_count": 14,
   "metadata": {},
   "outputs": [
    {
     "name": "stdout",
     "output_type": "stream",
     "text": [
      "TRAIN_DATASET\n",
      "\n"
     ]
    },
    {
     "data": {
      "text/plain": [
       "department                 0\n",
       "region                     0\n",
       "education               2409\n",
       "gender                     0\n",
       "recruitment_channel        0\n",
       "no_of_trainings            0\n",
       "age                        0\n",
       "previous_year_rating    4124\n",
       "length_of_service          0\n",
       "KPIs_met >80%              0\n",
       "awards_won?                0\n",
       "avg_training_score         0\n",
       "dtype: int64"
      ]
     },
     "execution_count": 14,
     "metadata": {},
     "output_type": "execute_result"
    }
   ],
   "source": [
    "# To check the missing value in train dataset\n",
    "print(\"TRAIN_DATASET\\n\")\n",
    "train_ds.isna().sum()"
   ]
  },
  {
   "cell_type": "code",
   "execution_count": 15,
   "metadata": {},
   "outputs": [
    {
     "name": "stdout",
     "output_type": "stream",
     "text": [
      "TEST_DATASET\n",
      "\n"
     ]
    },
    {
     "data": {
      "text/plain": [
       "department                 0\n",
       "region                     0\n",
       "education               1034\n",
       "gender                     0\n",
       "recruitment_channel        0\n",
       "no_of_trainings            0\n",
       "age                        0\n",
       "previous_year_rating    1812\n",
       "length_of_service          0\n",
       "KPIs_met >80%              0\n",
       "awards_won?                0\n",
       "avg_training_score         0\n",
       "dtype: int64"
      ]
     },
     "execution_count": 15,
     "metadata": {},
     "output_type": "execute_result"
    }
   ],
   "source": [
    "#To check the missing value in test dataset\n",
    "print(\"TEST_DATASET\\n\")\n",
    "test_ds.isna().sum()"
   ]
  },
  {
   "cell_type": "markdown",
   "metadata": {},
   "source": [
    "# observation:\n",
    "From above outcomes we able to understand that we have missing value in columns such as education and previous_year_rating.\n",
    "1. Missing values in \"education\" is fill by \"Bachelor's\" since the count of Bachelor's is high compare to others.\n",
    "2. In similar way, missing values in \"previous_year_rating\" is placed by \"3.0\" since the count of '3.0' is high compare to others."
   ]
  },
  {
   "cell_type": "code",
   "execution_count": 16,
   "metadata": {},
   "outputs": [
    {
     "name": "stdout",
     "output_type": "stream",
     "text": [
      "Bachelor's          52247\n",
      "Master's & above    21429\n",
      "Below Secondary      1179\n",
      "Name: education, dtype: int64\n",
      "3.0    26539\n",
      "5.0    16838\n",
      "4.0    14126\n",
      "1.0     8903\n",
      "2.0     5956\n",
      "Name: previous_year_rating, dtype: int64\n"
     ]
    }
   ],
   "source": [
    "data = train_ds.append(test_ds, ignore_index=True)\n",
    "\n",
    "#count of values in \"education\"\n",
    "print(data[\"education\"].value_counts())\n",
    "\n",
    "#count of values in \"previous_year_rating\"\n",
    "print(data[\"previous_year_rating\"].value_counts())\n",
    "\n"
   ]
  },
  {
   "cell_type": "code",
   "execution_count": 17,
   "metadata": {},
   "outputs": [],
   "source": [
    "# handling the missing value in train dataset\n",
    "\n",
    "train_ds[\"education\"] = train_ds[\"education\"].fillna(\"Bachelor's\")\n",
    "test_ds[\"education\"] = test_ds[\"education\"].fillna(\"Bachelor's\")\n",
    "\n",
    "# handling the missing value in test dataset\n",
    "\n",
    "train_ds[\"previous_year_rating\"] = train_ds[\"previous_year_rating\"].fillna(3.0)\n",
    "test_ds[\"previous_year_rating\"] = test_ds[\"previous_year_rating\"].fillna(3.0)"
   ]
  },
  {
   "cell_type": "markdown",
   "metadata": {},
   "source": [
    "# Correlation between all the numerical variables are shown.\n",
    "Heatmap is used to visualize the correlation that are shown through variations in coloring. The variable with dark color represent that the variable have more correlation."
   ]
  },
  {
   "cell_type": "code",
   "execution_count": 18,
   "metadata": {},
   "outputs": [
    {
     "data": {
      "text/plain": [
       "<matplotlib.axes._subplots.AxesSubplot at 0x23dc9e0e688>"
      ]
     },
     "execution_count": 18,
     "metadata": {},
     "output_type": "execute_result"
    },
    {
     "data": {
      "image/png": "[encoded data removed]",
      "text/plain": [
       "<Figure size 648x432 with 2 Axes>"
      ]
     },
     "metadata": {
      "needs_background": "light"
     },
     "output_type": "display_data"
    }
   ],
   "source": [
    "# plot of correlation matrix\n",
    "plt.figure(figsize=(9,6))\n",
    "sns.heatmap(train_ds.corr(),annot=True)"
   ]
  },
  {
   "cell_type": "code",
   "execution_count": 19,
   "metadata": {},
   "outputs": [
    {
     "data": {
      "text/html": [
       "<div>\n",
       "<style scoped>\n",
       "    .dataframe tbody tr th:only-of-type {\n",
       "        vertical-align: middle;\n",
       "    }\n",
       "\n",
       "    .dataframe tbody tr th {\n",
       "        vertical-align: top;\n",
       "    }\n",
       "\n",
       "    .dataframe thead th {\n",
       "        text-align: right;\n",
       "    }\n",
       "</style>\n",
       "<table border=\"1\" class=\"dataframe\">\n",
       "  <thead>\n",
       "    <tr style=\"text-align: right;\">\n",
       "      <th></th>\n",
       "      <th>department</th>\n",
       "      <th>region</th>\n",
       "      <th>education</th>\n",
       "      <th>gender</th>\n",
       "      <th>recruitment_channel</th>\n",
       "      <th>no_of_trainings</th>\n",
       "      <th>age</th>\n",
       "      <th>previous_year_rating</th>\n",
       "      <th>length_of_service</th>\n",
       "      <th>KPIs_met &gt;80%</th>\n",
       "      <th>awards_won?</th>\n",
       "      <th>avg_training_score</th>\n",
       "      <th>no_of_trainings_promoted</th>\n",
       "    </tr>\n",
       "  </thead>\n",
       "  <tbody>\n",
       "    <tr>\n",
       "      <th>0</th>\n",
       "      <td>Sales &amp; Marketing</td>\n",
       "      <td>region_7</td>\n",
       "      <td>Master's &amp; above</td>\n",
       "      <td>f</td>\n",
       "      <td>sourcing</td>\n",
       "      <td>1</td>\n",
       "      <td>35</td>\n",
       "      <td>5.0</td>\n",
       "      <td>8</td>\n",
       "      <td>1</td>\n",
       "      <td>0</td>\n",
       "      <td>49</td>\n",
       "      <td>1</td>\n",
       "    </tr>\n",
       "    <tr>\n",
       "      <th>1</th>\n",
       "      <td>Operations</td>\n",
       "      <td>region_22</td>\n",
       "      <td>Bachelor's</td>\n",
       "      <td>m</td>\n",
       "      <td>other</td>\n",
       "      <td>1</td>\n",
       "      <td>30</td>\n",
       "      <td>5.0</td>\n",
       "      <td>4</td>\n",
       "      <td>0</td>\n",
       "      <td>0</td>\n",
       "      <td>60</td>\n",
       "      <td>1</td>\n",
       "    </tr>\n",
       "    <tr>\n",
       "      <th>2</th>\n",
       "      <td>Sales &amp; Marketing</td>\n",
       "      <td>region_19</td>\n",
       "      <td>Bachelor's</td>\n",
       "      <td>m</td>\n",
       "      <td>sourcing</td>\n",
       "      <td>1</td>\n",
       "      <td>34</td>\n",
       "      <td>3.0</td>\n",
       "      <td>7</td>\n",
       "      <td>0</td>\n",
       "      <td>0</td>\n",
       "      <td>50</td>\n",
       "      <td>1</td>\n",
       "    </tr>\n",
       "    <tr>\n",
       "      <th>3</th>\n",
       "      <td>Sales &amp; Marketing</td>\n",
       "      <td>region_23</td>\n",
       "      <td>Bachelor's</td>\n",
       "      <td>m</td>\n",
       "      <td>other</td>\n",
       "      <td>2</td>\n",
       "      <td>39</td>\n",
       "      <td>1.0</td>\n",
       "      <td>10</td>\n",
       "      <td>0</td>\n",
       "      <td>0</td>\n",
       "      <td>50</td>\n",
       "      <td>1</td>\n",
       "    </tr>\n",
       "    <tr>\n",
       "      <th>4</th>\n",
       "      <td>Technology</td>\n",
       "      <td>region_26</td>\n",
       "      <td>Bachelor's</td>\n",
       "      <td>m</td>\n",
       "      <td>other</td>\n",
       "      <td>1</td>\n",
       "      <td>45</td>\n",
       "      <td>3.0</td>\n",
       "      <td>2</td>\n",
       "      <td>0</td>\n",
       "      <td>0</td>\n",
       "      <td>73</td>\n",
       "      <td>1</td>\n",
       "    </tr>\n",
       "  </tbody>\n",
       "</table>\n",
       "</div>"
      ],
      "text/plain": [
       "          department     region         education gender recruitment_channel  \\\n",
       "0  Sales & Marketing   region_7  Master's & above      f            sourcing   \n",
       "1         Operations  region_22        Bachelor's      m               other   \n",
       "2  Sales & Marketing  region_19        Bachelor's      m            sourcing   \n",
       "3  Sales & Marketing  region_23        Bachelor's      m               other   \n",
       "4         Technology  region_26        Bachelor's      m               other   \n",
       "\n",
       "   no_of_trainings  age  previous_year_rating  length_of_service  \\\n",
       "0                1   35                   5.0                  8   \n",
       "1                1   30                   5.0                  4   \n",
       "2                1   34                   3.0                  7   \n",
       "3                2   39                   1.0                 10   \n",
       "4                1   45                   3.0                  2   \n",
       "\n",
       "   KPIs_met >80%  awards_won?  avg_training_score  no_of_trainings_promoted  \n",
       "0              1            0                  49                         1  \n",
       "1              0            0                  60                         1  \n",
       "2              0            0                  50                         1  \n",
       "3              0            0                  50                         1  \n",
       "4              0            0                  73                         1  "
      ]
     },
     "execution_count": 19,
     "metadata": {},
     "output_type": "execute_result"
    }
   ],
   "source": [
    "train_ds[\"no_of_trainings_promoted\"] = train_ds[\"no_of_trainings\"].apply(lambda x: 0 if x in [7, 8, 9, 10] else 1)\n",
    "test_ds[\"no_of_trainings_promoted\"] = test_ds[\"no_of_trainings\"].apply(lambda x: 0 if x in [7, 8, 9, 10] else 1)\n",
    "train_ds.head()\n",
    "#creating the new columns \"no_of_trainings_promoted\" in both test and train dataset with condition."
   ]
  },
  {
   "cell_type": "code",
   "execution_count": 20,
   "metadata": {},
   "outputs": [
    {
     "data": {
      "text/html": [
       "<div>\n",
       "<style scoped>\n",
       "    .dataframe tbody tr th:only-of-type {\n",
       "        vertical-align: middle;\n",
       "    }\n",
       "\n",
       "    .dataframe tbody tr th {\n",
       "        vertical-align: top;\n",
       "    }\n",
       "\n",
       "    .dataframe thead th {\n",
       "        text-align: right;\n",
       "    }\n",
       "</style>\n",
       "<table border=\"1\" class=\"dataframe\">\n",
       "  <thead>\n",
       "    <tr style=\"text-align: right;\">\n",
       "      <th></th>\n",
       "      <th>department</th>\n",
       "      <th>region</th>\n",
       "      <th>education</th>\n",
       "      <th>gender</th>\n",
       "      <th>recruitment_channel</th>\n",
       "      <th>no_of_trainings</th>\n",
       "      <th>age</th>\n",
       "      <th>previous_year_rating</th>\n",
       "      <th>length_of_service</th>\n",
       "      <th>KPIs_met &gt;80%</th>\n",
       "      <th>awards_won?</th>\n",
       "      <th>avg_training_score</th>\n",
       "      <th>no_of_trainings_promoted</th>\n",
       "      <th>kpi_awards_trainingScore_promoted</th>\n",
       "    </tr>\n",
       "  </thead>\n",
       "  <tbody>\n",
       "    <tr>\n",
       "      <th>0</th>\n",
       "      <td>Sales &amp; Marketing</td>\n",
       "      <td>region_7</td>\n",
       "      <td>Master's &amp; above</td>\n",
       "      <td>f</td>\n",
       "      <td>sourcing</td>\n",
       "      <td>1</td>\n",
       "      <td>35</td>\n",
       "      <td>5.0</td>\n",
       "      <td>8</td>\n",
       "      <td>1</td>\n",
       "      <td>0</td>\n",
       "      <td>49</td>\n",
       "      <td>1</td>\n",
       "      <td>1</td>\n",
       "    </tr>\n",
       "    <tr>\n",
       "      <th>1</th>\n",
       "      <td>Operations</td>\n",
       "      <td>region_22</td>\n",
       "      <td>Bachelor's</td>\n",
       "      <td>m</td>\n",
       "      <td>other</td>\n",
       "      <td>1</td>\n",
       "      <td>30</td>\n",
       "      <td>5.0</td>\n",
       "      <td>4</td>\n",
       "      <td>0</td>\n",
       "      <td>0</td>\n",
       "      <td>60</td>\n",
       "      <td>1</td>\n",
       "      <td>1</td>\n",
       "    </tr>\n",
       "    <tr>\n",
       "      <th>2</th>\n",
       "      <td>Sales &amp; Marketing</td>\n",
       "      <td>region_19</td>\n",
       "      <td>Bachelor's</td>\n",
       "      <td>m</td>\n",
       "      <td>sourcing</td>\n",
       "      <td>1</td>\n",
       "      <td>34</td>\n",
       "      <td>3.0</td>\n",
       "      <td>7</td>\n",
       "      <td>0</td>\n",
       "      <td>0</td>\n",
       "      <td>50</td>\n",
       "      <td>1</td>\n",
       "      <td>1</td>\n",
       "    </tr>\n",
       "    <tr>\n",
       "      <th>3</th>\n",
       "      <td>Sales &amp; Marketing</td>\n",
       "      <td>region_23</td>\n",
       "      <td>Bachelor's</td>\n",
       "      <td>m</td>\n",
       "      <td>other</td>\n",
       "      <td>2</td>\n",
       "      <td>39</td>\n",
       "      <td>1.0</td>\n",
       "      <td>10</td>\n",
       "      <td>0</td>\n",
       "      <td>0</td>\n",
       "      <td>50</td>\n",
       "      <td>1</td>\n",
       "      <td>1</td>\n",
       "    </tr>\n",
       "    <tr>\n",
       "      <th>4</th>\n",
       "      <td>Technology</td>\n",
       "      <td>region_26</td>\n",
       "      <td>Bachelor's</td>\n",
       "      <td>m</td>\n",
       "      <td>other</td>\n",
       "      <td>1</td>\n",
       "      <td>45</td>\n",
       "      <td>3.0</td>\n",
       "      <td>2</td>\n",
       "      <td>0</td>\n",
       "      <td>0</td>\n",
       "      <td>73</td>\n",
       "      <td>1</td>\n",
       "      <td>1</td>\n",
       "    </tr>\n",
       "  </tbody>\n",
       "</table>\n",
       "</div>"
      ],
      "text/plain": [
       "          department     region         education gender recruitment_channel  \\\n",
       "0  Sales & Marketing   region_7  Master's & above      f            sourcing   \n",
       "1         Operations  region_22        Bachelor's      m               other   \n",
       "2  Sales & Marketing  region_19        Bachelor's      m            sourcing   \n",
       "3  Sales & Marketing  region_23        Bachelor's      m               other   \n",
       "4         Technology  region_26        Bachelor's      m               other   \n",
       "\n",
       "   no_of_trainings  age  previous_year_rating  length_of_service  \\\n",
       "0                1   35                   5.0                  8   \n",
       "1                1   30                   5.0                  4   \n",
       "2                1   34                   3.0                  7   \n",
       "3                2   39                   1.0                 10   \n",
       "4                1   45                   3.0                  2   \n",
       "\n",
       "   KPIs_met >80%  awards_won?  avg_training_score  no_of_trainings_promoted  \\\n",
       "0              1            0                  49                         1   \n",
       "1              0            0                  60                         1   \n",
       "2              0            0                  50                         1   \n",
       "3              0            0                  50                         1   \n",
       "4              0            0                  73                         1   \n",
       "\n",
       "   kpi_awards_trainingScore_promoted  \n",
       "0                                  1  \n",
       "1                                  1  \n",
       "2                                  1  \n",
       "3                                  1  \n",
       "4                                  1  "
      ]
     },
     "execution_count": 20,
     "metadata": {},
     "output_type": "execute_result"
    }
   ],
   "source": [
    "train_ds[\"kpi_awards_trainingScore_promoted\"] = train_ds[\"no_of_trainings\"].apply(lambda x: 0 if x in [7, 8, 9, 10] else 1)\n",
    "test_ds[\"kpi_awards_trainingScore_promoted\"] = test_ds[\"no_of_trainings\"].apply(lambda x: 0 if x in [7, 8, 9, 10] else 1)\n",
    "train_ds.head()\n",
    "#creating the new column \"kpi_awards_trainingScore_promoted\" for both train and test data with condition."
   ]
  },
  {
   "cell_type": "code",
   "execution_count": 21,
   "metadata": {},
   "outputs": [
    {
     "data": {
      "text/plain": [
       "<matplotlib.axes._subplots.AxesSubplot at 0x23dcbb88448>"
      ]
     },
     "execution_count": 21,
     "metadata": {},
     "output_type": "execute_result"
    },
    {
     "data": {
      "image/png": "[encoded data removed]",
      "text/plain": [
       "<Figure size 2520x1440 with 2 Axes>"
      ]
     },
     "metadata": {
      "needs_background": "light"
     },
     "output_type": "display_data"
    }
   ],
   "source": [
    "#Visualizing the plot on \"age\"\n",
    "plt.figure(figsize=(35, 20))\n",
    "\n",
    "# distplot of attribute \"age\"\n",
    "plt.subplot(2, 3, 1)\n",
    "sns.distplot(train_ds[\"age\"])\n",
    "\n",
    "# barplot of attributes \"age\" compare to target variable\n",
    "plt.subplot(2, 3, 2)\n",
    "sns.barplot(train_ds[\"age\"], target)\n"
   ]
  },
  {
   "cell_type": "code",
   "execution_count": 22,
   "metadata": {},
   "outputs": [
    {
     "data": {
      "text/plain": [
       "age_range\n",
       "20-25     3014\n",
       "26-30    15104\n",
       "31-35    16065\n",
       "36-40     9963\n",
       "41-45     5037\n",
       "46-50     2773\n",
       "51-55     1711\n",
       "56-60     1141\n",
       "Name: age_range, dtype: int64"
      ]
     },
     "execution_count": 22,
     "metadata": {},
     "output_type": "execute_result"
    }
   ],
   "source": [
    "#creating the function call \"age_range\" to group it\n",
    "def age_range(row):\n",
    "    if row['age'] >= 20 and row['age'] <= 25:\n",
    "        return '20-25'\n",
    "    elif row['age']  >= 26 and row['age'] <= 30:\n",
    "        return '26-30'\n",
    "    elif row['age'] >= 31 and row['age'] <= 35:\n",
    "        return '31-35'\n",
    "    elif row['age'] >= 36 and row['age'] <= 40:\n",
    "        return '36-40'\n",
    "    elif row['age'] >= 41 and row['age'] <= 45:\n",
    "        return '41-45'\n",
    "    elif row['age'] >= 46 and row['age'] <= 50:\n",
    "        return '46-50'\n",
    "    elif row['age'] >= 51 and row['age'] <= 55:\n",
    "        return '51-55'\n",
    "    elif row['age'] >= 56 and row['age'] <= 60:\n",
    "        return '56-60'\n",
    "    \n",
    "# creating a new column called \"age_range\" for both train and test data\n",
    "train_ds['age_range'] = train_ds.apply(lambda row: age_range(row), axis=1)\n",
    "test_ds['age_range'] = test_ds.apply(lambda row: age_range(row), axis=1)\n",
    "\n",
    "train_ds.groupby(['age_range'])['age_range'].count()\n"
   ]
  },
  {
   "cell_type": "code",
   "execution_count": 23,
   "metadata": {},
   "outputs": [
    {
     "data": {
      "image/png": "[encoded data removed]",
      "text/plain": [
       "<Figure size 1080x720 with 3 Axes>"
      ]
     },
     "metadata": {
      "needs_background": "light"
     },
     "output_type": "display_data"
    }
   ],
   "source": [
    "# created the new variable called log_age to store the value of log(age) for train data, similarly \n",
    "  #done for variable (\"sqrt_age\" and \"cube_age\")\n",
    "log_age = np.log(train_ds[\"age\"])\n",
    "sqrt_age = np.power(train_ds[\"age\"], 1/2)\n",
    "cube_age = np.power(train_ds[\"age\"], 1/3)\n",
    "\n",
    "# Distplot for Log\n",
    "plt.figure(figsize=(15, 10))\n",
    "plt.subplot(2, 3, 1)\n",
    "sns.distplot(log_age, label=\"Log\")\n",
    "# to adjust the position \n",
    "plt.legend(loc=\"best\")\n",
    "\n",
    "# distplot for sqrt\n",
    "plt.subplot(2, 3, 2)\n",
    "sns.distplot(sqrt_age, label=\"Sqrt\")\n",
    "plt.legend(loc=\"best\")\n",
    "\n",
    "# distplot for cube\n",
    "plt.subplot(2, 3, 3)\n",
    "sns.distplot(cube_age, label=\"Cube\")\n",
    "plt.legend(loc=\"best\")\n",
    "\n",
    "# creating a new column \"age_log\" to store the value of log(age) for both train and test data\n",
    "train_ds[\"age_log\"] = np.log(train_ds[\"age\"])\n",
    "test_ds[\"age_log\"] = np.log(test_ds[\"age\"])\n"
   ]
  },
  {
   "cell_type": "code",
   "execution_count": 24,
   "metadata": {},
   "outputs": [
    {
     "data": {
      "text/plain": [
       "<matplotlib.axes._subplots.AxesSubplot at 0x23dca7c1f48>"
      ]
     },
     "execution_count": 24,
     "metadata": {},
     "output_type": "execute_result"
    },
    {
     "data": {
      "image/png": "[encoded data removed]",
      "text/plain": [
       "<Figure size 1080x720 with 2 Axes>"
      ]
     },
     "metadata": {
      "needs_background": "light"
     },
     "output_type": "display_data"
    }
   ],
   "source": [
    "# visualizing the plot on \"length_of_service\"\n",
    "plt.figure(figsize=(15, 10))\n",
    "\n",
    "# distplot of \"length_of_service\"\n",
    "plt.subplot(2, 3, 1)\n",
    "sns.distplot(train_ds[\"length_of_service\"])\n",
    "\n",
    "#barplot of \"Length_of_service\" compare to target variable\n",
    "plt.subplot(2, 3, 2)\n",
    "sns.barplot(train_ds[\"length_of_service\"], target)"
   ]
  },
  {
   "cell_type": "code",
   "execution_count": 25,
   "metadata": {},
   "outputs": [
    {
     "data": {
      "image/png": "[encoded data removed]",
      "text/plain": [
       "<Figure size 1080x720 with 3 Axes>"
      ]
     },
     "metadata": {
      "needs_background": "light"
     },
     "output_type": "display_data"
    }
   ],
   "source": [
    "# created the new variable called log_ls to store the value of log(length_of_service) for train data, \n",
    " #similarly done for variable (\"sqrt_ls\" and \"cube_ls\")\n",
    "log_ls = np.log(train_ds[\"length_of_service\"])\n",
    "sqrt_ls = np.power(train_ds[\"length_of_service\"], 1/2)\n",
    "cube_ls = np.power(train_ds[\"length_of_service\"], 1/3)\n",
    "\n",
    "# distplot of log_ls\n",
    "plt.figure(figsize=(15, 10))\n",
    "plt.subplot(2, 3, 1)\n",
    "sns.distplot(log_ls, label=\"Log\")\n",
    "plt.legend(loc=\"best\")\n",
    "\n",
    "# distplot of sqrt_ls\n",
    "plt.subplot(2, 3, 2)\n",
    "sns.distplot(sqrt_ls, label=\"Sqrt\")\n",
    "plt.legend(loc=\"best\")\n",
    "\n",
    "# distplot of cube_ls\n",
    "plt.subplot(2, 3, 3)\n",
    "sns.distplot(cube_ls,label=\"Cube\")\n",
    "plt.legend(loc=\"best\")\n",
    "\n",
    "# creating a new column \"length_of_service_log\" to store the value of log(length_of_service) for both train and test data\n",
    "train_ds['length_of_service_log'] = np.log(train_ds['length_of_service'])\n",
    "test_ds['length_of_service_log'] = np.log(test_ds['length_of_service'])\n"
   ]
  },
  {
   "cell_type": "code",
   "execution_count": 26,
   "metadata": {},
   "outputs": [],
   "source": [
    "# creating a new column \"age_service\" in both test and train data \n",
    "# age_service = (age - length_of_service) / age\n",
    "\n",
    "train_ds['age_service'] = (train_ds['age'] - train_ds['length_of_service'])/train_ds['age']\n",
    "test_ds['age_service'] = (test_ds['age'] - test_ds['length_of_service'])/test_ds['age']"
   ]
  },
  {
   "cell_type": "code",
   "execution_count": 27,
   "metadata": {},
   "outputs": [
    {
     "data": {
      "text/plain": [
       "<matplotlib.axes._subplots.AxesSubplot at 0x23dcc23bf08>"
      ]
     },
     "execution_count": 27,
     "metadata": {},
     "output_type": "execute_result"
    },
    {
     "data": {
      "image/png": "[encoded data removed]",
      "text/plain": [
       "<Figure size 1080x720 with 2 Axes>"
      ]
     },
     "metadata": {
      "needs_background": "light"
     },
     "output_type": "display_data"
    }
   ],
   "source": [
    "#Visualizing the plot on \"KPIs_met > 80%\"\n",
    "plt.figure(figsize=(15, 10))\n",
    "\n",
    "# distplot of \"KPIs_met >80%\"\n",
    "plt.subplot(2, 3, 1)\n",
    "sns.distplot(train_ds[\"KPIs_met >80%\"])\n",
    "\n",
    "# barplot of \"KPIs_met >80%\" compare to target variable\n",
    "plt.subplot(2, 3, 2)\n",
    "sns.barplot(train_ds[\"KPIs_met >80%\"], target)"
   ]
  },
  {
   "cell_type": "code",
   "execution_count": 28,
   "metadata": {},
   "outputs": [
    {
     "data": {
      "text/plain": [
       "<matplotlib.axes._subplots.AxesSubplot at 0x23dcc8b3288>"
      ]
     },
     "execution_count": 28,
     "metadata": {},
     "output_type": "execute_result"
    },
    {
     "data": {
      "image/png": "[encoded data removed]",
      "text/plain": [
       "<Figure size 1080x720 with 2 Axes>"
      ]
     },
     "metadata": {
      "needs_background": "light"
     },
     "output_type": "display_data"
    }
   ],
   "source": [
    "#Visualizing the plot on \"awards_won\"\n",
    "plt.figure(figsize=(15, 10))\n",
    "\n",
    "# distplot for \"awards_won\"\n",
    "plt.subplot(2, 3, 1)\n",
    "sns.distplot(train_ds[\"awards_won?\"],kde_kws={'bw':1.5})\n",
    "\n",
    "# barplot for \"awards_won\" compare to target variable\n",
    "plt.subplot(2, 3, 2)\n",
    "sns.barplot(train_ds[\"awards_won?\"], target)"
   ]
  },
  {
   "cell_type": "code",
   "execution_count": 29,
   "metadata": {},
   "outputs": [
    {
     "data": {
      "text/plain": [
       "<matplotlib.axes._subplots.AxesSubplot at 0x23dcc9fa288>"
      ]
     },
     "execution_count": 29,
     "metadata": {},
     "output_type": "execute_result"
    },
    {
     "data": {
      "image/png": "[encoded data removed]",
      "text/plain": [
       "<Figure size 2520x1440 with 2 Axes>"
      ]
     },
     "metadata": {
      "needs_background": "light"
     },
     "output_type": "display_data"
    }
   ],
   "source": [
    "#Visualizing the plot on \"avg_training_score\"\n",
    "plt.figure(figsize=(35, 20))\n",
    "\n",
    "# distplot for \"avg_training_score\"\n",
    "plt.subplot(2, 3, 1)\n",
    "sns.distplot(train_ds[\"avg_training_score\"])\n",
    "\n",
    "# barplot for \"avg_training_score\" compare to target variable\n",
    "plt.subplot(2, 3, 2)\n",
    "sns.barplot(train_ds[\"avg_training_score\"], target)\n"
   ]
  },
  {
   "cell_type": "code",
   "execution_count": 30,
   "metadata": {},
   "outputs": [
    {
     "data": {
      "text/plain": [
       "50    2716\n",
       "49    2681\n",
       "48    2437\n",
       "51    2347\n",
       "60    2155\n",
       "      ... \n",
       "98      37\n",
       "99      35\n",
       "41      26\n",
       "40       5\n",
       "39       2\n",
       "Name: avg_training_score, Length: 61, dtype: int64"
      ]
     },
     "execution_count": 30,
     "metadata": {},
     "output_type": "execute_result"
    }
   ],
   "source": [
    "# count of avg_training_score\n",
    "train_ds[\"avg_training_score\"].value_counts()"
   ]
  },
  {
   "cell_type": "code",
   "execution_count": 31,
   "metadata": {},
   "outputs": [
    {
     "data": {
      "image/png": "[encoded data removed]",
      "text/plain": [
       "<Figure size 1080x720 with 3 Axes>"
      ]
     },
     "metadata": {
      "needs_background": "light"
     },
     "output_type": "display_data"
    }
   ],
   "source": [
    "# created the new variable called log_ats to store the value of log(avg_training_score) for train data, \n",
    " #similarly done for variable (\"sqrt_ats\" and \"cube_ats\")\n",
    "log_ats = np.log(train_ds[\"avg_training_score\"])\n",
    "sqrt_ats = np.power(train_ds[\"avg_training_score\"], 1/2)\n",
    "cube_ats = np.power(train_ds[\"avg_training_score\"], 1/3)\n",
    "\n",
    "#distplot for log_ats\n",
    "plt.figure(figsize=(15, 10))\n",
    "plt.subplot(2, 3, 1)\n",
    "sns.distplot(log_ats, label=\"Log\")\n",
    "plt.legend(loc=\"best\")\n",
    "\n",
    "#distplot for sqrt_ats\n",
    "plt.subplot(2, 3, 2)\n",
    "sns.distplot(sqrt_ats, label=\"Sqrt\")\n",
    "plt.legend(loc=\"best\")\n",
    "\n",
    "#distplot for cube_ats\n",
    "plt.subplot(2, 3, 3)\n",
    "sns.distplot(cube_ats, label=\"Cube\")\n",
    "plt.legend(loc=\"best\")\n",
    "\n",
    "# creating a new column \"avg_training_score_log\" to store the value of log(avg_training_score) for both train and test data\n",
    "train_ds[\"avg_training_score_log\"] = np.log(train_ds[\"avg_training_score\"])\n",
    "test_ds[\"avg_training_score_log\"] = np.log(test_ds[\"avg_training_score\"])"
   ]
  },
  {
   "cell_type": "code",
   "execution_count": 32,
   "metadata": {},
   "outputs": [],
   "source": [
    "# creating a new column \"avg_training_score_promoted\" for both train and test data with condition (if(x>=90) then x=0).\n",
    "train_ds[\"avg_training_score_promoted\"] = train_ds[\"avg_training_score\"].apply(lambda x: 1 if x>=90 else 0)\n",
    "test_ds[\"avg_training_score_promoted\"] = test_ds[\"avg_training_score\"].apply(lambda x: 1 if x>=90 else 0)\n",
    "\n"
   ]
  },
  {
   "cell_type": "code",
   "execution_count": 33,
   "metadata": {},
   "outputs": [
    {
     "data": {
      "text/plain": [
       "<matplotlib.axes._subplots.AxesSubplot at 0x23dce27d048>"
      ]
     },
     "execution_count": 33,
     "metadata": {},
     "output_type": "execute_result"
    },
    {
     "data": {
      "image/png": "[encoded data removed]",
      "text/plain": [
       "<Figure size 1080x720 with 2 Axes>"
      ]
     },
     "metadata": {
      "needs_background": "light"
     },
     "output_type": "display_data"
    }
   ],
   "source": [
    "#Visualizing the plot on \"department\"\n",
    "plt.figure(figsize=(15,10))\n",
    "\n",
    "# bar plot of department\n",
    "plt.subplot(2, 3, 1)\n",
    "train_ds[\"department\"].value_counts().plot(kind='bar')\n",
    "\n",
    "# barplot of department compare to target variable\n",
    "plt.subplot(2, 3, 2)\n",
    "sns.barplot(train_ds[\"department\"], target)"
   ]
  },
  {
   "cell_type": "code",
   "execution_count": 34,
   "metadata": {},
   "outputs": [
    {
     "data": {
      "text/plain": [
       "Sales & Marketing    16840\n",
       "Operations           11348\n",
       "Procurement           7138\n",
       "Technology            7138\n",
       "Analytics             5352\n",
       "Finance               2536\n",
       "HR                    2418\n",
       "Legal                 1039\n",
       "R&D                    999\n",
       "Name: department, dtype: int64"
      ]
     },
     "execution_count": 34,
     "metadata": {},
     "output_type": "execute_result"
    }
   ],
   "source": [
    "# count of department\n",
    "train_ds[\"department\"].value_counts()"
   ]
  },
  {
   "cell_type": "code",
   "execution_count": 35,
   "metadata": {},
   "outputs": [
    {
     "data": {
      "text/plain": [
       "<matplotlib.axes._subplots.AxesSubplot at 0x23dce3d8b88>"
      ]
     },
     "execution_count": 35,
     "metadata": {},
     "output_type": "execute_result"
    },
    {
     "data": {
      "image/png": "[encoded data removed]",
      "text/plain": [
       "<Figure size 1800x720 with 1 Axes>"
      ]
     },
     "metadata": {
      "needs_background": "light"
     },
     "output_type": "display_data"
    }
   ],
   "source": [
    "#Visualizing the plot on \"region\"\n",
    "plt.figure(figsize=(25,10))\n",
    "\n",
    "#barplot of \"region\"\n",
    "train_ds[\"region\"].value_counts().plot(kind='bar')\n",
    "\n"
   ]
  },
  {
   "cell_type": "code",
   "execution_count": 36,
   "metadata": {},
   "outputs": [
    {
     "data": {
      "text/plain": [
       "<matplotlib.axes._subplots.AxesSubplot at 0x23dce60de08>"
      ]
     },
     "execution_count": 36,
     "metadata": {},
     "output_type": "execute_result"
    },
    {
     "data": {
      "image/png": "[encoded data removed]",
      "text/plain": [
       "<Figure size 1800x720 with 1 Axes>"
      ]
     },
     "metadata": {
      "needs_background": "light"
     },
     "output_type": "display_data"
    }
   ],
   "source": [
    "#barplot of \"region\" compare to target\n",
    "plt.figure(figsize=(25,10))\n",
    "sns.barplot(train_ds[\"region\"], target)"
   ]
  },
  {
   "cell_type": "code",
   "execution_count": 37,
   "metadata": {},
   "outputs": [
    {
     "data": {
      "text/plain": [
       "region_2     12343\n",
       "region_22     6428\n",
       "region_7      4843\n",
       "region_15     2808\n",
       "region_13     2648\n",
       "region_26     2260\n",
       "region_31     1935\n",
       "region_4      1703\n",
       "region_27     1659\n",
       "region_16     1465\n",
       "region_28     1318\n",
       "region_11     1315\n",
       "region_23     1175\n",
       "region_29      994\n",
       "region_32      945\n",
       "region_19      874\n",
       "region_20      850\n",
       "region_14      827\n",
       "region_25      819\n",
       "region_17      796\n",
       "region_5       766\n",
       "region_6       690\n",
       "region_30      657\n",
       "region_8       655\n",
       "region_10      648\n",
       "region_1       610\n",
       "region_24      508\n",
       "region_12      500\n",
       "region_9       420\n",
       "region_21      411\n",
       "region_3       346\n",
       "region_34      292\n",
       "region_33      269\n",
       "region_18       31\n",
       "Name: region, dtype: int64"
      ]
     },
     "execution_count": 37,
     "metadata": {},
     "output_type": "execute_result"
    }
   ],
   "source": [
    "# count of regions\n",
    "train_ds[\"region\"].value_counts()"
   ]
  },
  {
   "cell_type": "code",
   "execution_count": 38,
   "metadata": {},
   "outputs": [
    {
     "data": {
      "text/plain": [
       "region\n",
       "11to20    12114\n",
       "1to10     23024\n",
       "21to30    16229\n",
       "31to40     3441\n",
       "Name: region, dtype: int64"
      ]
     },
     "execution_count": 38,
     "metadata": {},
     "output_type": "execute_result"
    }
   ],
   "source": [
    "# creating a new function called region to group it\n",
    "def region_range(row):\n",
    "    if row['region'] >= 1 and row['region'] <= 10:\n",
    "        return '1to10'\n",
    "    elif row['region'] >= 11 and row['region'] <= 20:\n",
    "        return '11to20'\n",
    "    elif row['region'] >= 21 and row['region'] <= 30:\n",
    "        return '21to30'\n",
    "    elif row['region'] >= 31 and row['region'] <= 40:\n",
    "        return '31to40'\n",
    "    \n",
    "    \n",
    "#converting the region's names to numbers \n",
    "train_ds['region']=train_ds['region'].str.split(\"_\").str[1].astype('int64')\n",
    "test_ds['region']=test_ds['region'].str.split(\"_\").str[1].astype('int64')\n",
    "\n",
    "train_ds['region'] = train_ds.apply(lambda row: region_range(row), axis=1)\n",
    "test_ds['region'] = test_ds.apply(lambda row: region_range(row), axis=1)\n",
    "\n",
    "train_ds.groupby(['region'])['region'].count()"
   ]
  },
  {
   "cell_type": "code",
   "execution_count": 39,
   "metadata": {},
   "outputs": [
    {
     "data": {
      "text/plain": [
       "<matplotlib.axes._subplots.AxesSubplot at 0x23dce226188>"
      ]
     },
     "execution_count": 39,
     "metadata": {},
     "output_type": "execute_result"
    },
    {
     "data": {
      "image/png": "[encoded data removed]",
      "text/plain": [
       "<Figure size 1080x720 with 2 Axes>"
      ]
     },
     "metadata": {
      "needs_background": "light"
     },
     "output_type": "display_data"
    }
   ],
   "source": [
    "plt.figure(figsize=(15,10))\n",
    "\n",
    "# barplot of \"education\"\n",
    "plt.subplot(2, 3, 1)\n",
    "train_ds[\"education\"].value_counts().plot(kind='bar')\n",
    "\n",
    "#barplot of \"education\" compare to target variable\n",
    "plt.subplot(2, 3, 2)\n",
    "sns.barplot(train_ds[\"education\"], target)"
   ]
  },
  {
   "cell_type": "code",
   "execution_count": 40,
   "metadata": {},
   "outputs": [
    {
     "data": {
      "text/plain": [
       "Bachelor's          39078\n",
       "Master's & above    14925\n",
       "Below Secondary       805\n",
       "Name: education, dtype: int64"
      ]
     },
     "execution_count": 40,
     "metadata": {},
     "output_type": "execute_result"
    }
   ],
   "source": [
    "#count of education\n",
    "train_ds[\"education\"].value_counts()"
   ]
  },
  {
   "cell_type": "code",
   "execution_count": 41,
   "metadata": {},
   "outputs": [
    {
     "data": {
      "text/plain": [
       "<matplotlib.axes._subplots.AxesSubplot at 0x23dce234448>"
      ]
     },
     "execution_count": 41,
     "metadata": {},
     "output_type": "execute_result"
    },
    {
     "data": {
      "image/png": "[encoded data removed]",
      "text/plain": [
       "<Figure size 1080x720 with 2 Axes>"
      ]
     },
     "metadata": {
      "needs_background": "light"
     },
     "output_type": "display_data"
    }
   ],
   "source": [
    "plt.figure(figsize=(15,10))\n",
    "\n",
    "# barplot of gender\n",
    "plt.subplot(2, 3, 1)\n",
    "train_ds[\"gender\"].value_counts().plot(kind='bar')\n",
    "\n",
    "#barplot of gender compare to target variable\n",
    "plt.subplot(2, 3, 2)\n",
    "sns.barplot(train_ds[\"gender\"], target)"
   ]
  },
  {
   "cell_type": "code",
   "execution_count": 42,
   "metadata": {},
   "outputs": [
    {
     "data": {
      "text/plain": [
       "m    38496\n",
       "f    16312\n",
       "Name: gender, dtype: int64"
      ]
     },
     "execution_count": 42,
     "metadata": {},
     "output_type": "execute_result"
    }
   ],
   "source": [
    "# count of gender\n",
    "train_ds[\"gender\"].value_counts()"
   ]
  },
  {
   "cell_type": "code",
   "execution_count": 43,
   "metadata": {},
   "outputs": [
    {
     "data": {
      "text/plain": [
       "<matplotlib.axes._subplots.AxesSubplot at 0x23dca9229c8>"
      ]
     },
     "execution_count": 43,
     "metadata": {},
     "output_type": "execute_result"
    },
    {
     "data": {
      "image/png": "[encoded data removed]",
      "text/plain": [
       "<Figure size 1800x720 with 2 Axes>"
      ]
     },
     "metadata": {
      "needs_background": "light"
     },
     "output_type": "display_data"
    }
   ],
   "source": [
    "plt.figure(figsize=(25,10))\n",
    "\n",
    "# barplot of \"recuritment_channel\"\n",
    "plt.subplot(2, 3, 1)\n",
    "train_ds[\"recruitment_channel\"].value_counts().plot(kind='bar')\n",
    "\n",
    "#barplot of \"recuritment_channel\" compare to target variable\n",
    "plt.subplot(2, 3, 2)\n",
    "sns.barplot(train_ds[\"recruitment_channel\"], target)"
   ]
  },
  {
   "cell_type": "code",
   "execution_count": 44,
   "metadata": {},
   "outputs": [
    {
     "data": {
      "text/plain": [
       "other       30446\n",
       "sourcing    23220\n",
       "referred     1142\n",
       "Name: recruitment_channel, dtype: int64"
      ]
     },
     "execution_count": 44,
     "metadata": {},
     "output_type": "execute_result"
    }
   ],
   "source": [
    "#count of \"recruitment_channel\"\n",
    "train_ds[\"recruitment_channel\"].value_counts()"
   ]
  },
  {
   "cell_type": "code",
   "execution_count": 45,
   "metadata": {},
   "outputs": [
    {
     "data": {
      "text/html": [
       "<div>\n",
       "<style scoped>\n",
       "    .dataframe tbody tr th:only-of-type {\n",
       "        vertical-align: middle;\n",
       "    }\n",
       "\n",
       "    .dataframe tbody tr th {\n",
       "        vertical-align: top;\n",
       "    }\n",
       "\n",
       "    .dataframe thead th {\n",
       "        text-align: right;\n",
       "    }\n",
       "</style>\n",
       "<table border=\"1\" class=\"dataframe\">\n",
       "  <thead>\n",
       "    <tr style=\"text-align: right;\">\n",
       "      <th></th>\n",
       "      <th>department</th>\n",
       "      <th>region</th>\n",
       "      <th>education</th>\n",
       "      <th>gender</th>\n",
       "      <th>recruitment_channel</th>\n",
       "      <th>no_of_trainings</th>\n",
       "      <th>age</th>\n",
       "      <th>previous_year_rating</th>\n",
       "      <th>length_of_service</th>\n",
       "      <th>KPIs_met &gt;80%</th>\n",
       "      <th>awards_won?</th>\n",
       "      <th>avg_training_score</th>\n",
       "      <th>no_of_trainings_promoted</th>\n",
       "      <th>kpi_awards_trainingScore_promoted</th>\n",
       "      <th>age_range</th>\n",
       "      <th>age_log</th>\n",
       "      <th>length_of_service_log</th>\n",
       "      <th>age_service</th>\n",
       "      <th>avg_training_score_log</th>\n",
       "      <th>avg_training_score_promoted</th>\n",
       "    </tr>\n",
       "  </thead>\n",
       "  <tbody>\n",
       "    <tr>\n",
       "      <th>0</th>\n",
       "      <td>Sales &amp; Marketing</td>\n",
       "      <td>1to10</td>\n",
       "      <td>Master's &amp; above</td>\n",
       "      <td>f</td>\n",
       "      <td>sourcing</td>\n",
       "      <td>1</td>\n",
       "      <td>35</td>\n",
       "      <td>5.0</td>\n",
       "      <td>8</td>\n",
       "      <td>1</td>\n",
       "      <td>0</td>\n",
       "      <td>49</td>\n",
       "      <td>1</td>\n",
       "      <td>1</td>\n",
       "      <td>31-35</td>\n",
       "      <td>3.555348</td>\n",
       "      <td>2.079442</td>\n",
       "      <td>0.771429</td>\n",
       "      <td>3.891820</td>\n",
       "      <td>0</td>\n",
       "    </tr>\n",
       "    <tr>\n",
       "      <th>1</th>\n",
       "      <td>Operations</td>\n",
       "      <td>21to30</td>\n",
       "      <td>Bachelor's</td>\n",
       "      <td>m</td>\n",
       "      <td>other</td>\n",
       "      <td>1</td>\n",
       "      <td>30</td>\n",
       "      <td>5.0</td>\n",
       "      <td>4</td>\n",
       "      <td>0</td>\n",
       "      <td>0</td>\n",
       "      <td>60</td>\n",
       "      <td>1</td>\n",
       "      <td>1</td>\n",
       "      <td>26-30</td>\n",
       "      <td>3.401197</td>\n",
       "      <td>1.386294</td>\n",
       "      <td>0.866667</td>\n",
       "      <td>4.094345</td>\n",
       "      <td>0</td>\n",
       "    </tr>\n",
       "    <tr>\n",
       "      <th>2</th>\n",
       "      <td>Sales &amp; Marketing</td>\n",
       "      <td>11to20</td>\n",
       "      <td>Bachelor's</td>\n",
       "      <td>m</td>\n",
       "      <td>sourcing</td>\n",
       "      <td>1</td>\n",
       "      <td>34</td>\n",
       "      <td>3.0</td>\n",
       "      <td>7</td>\n",
       "      <td>0</td>\n",
       "      <td>0</td>\n",
       "      <td>50</td>\n",
       "      <td>1</td>\n",
       "      <td>1</td>\n",
       "      <td>31-35</td>\n",
       "      <td>3.526361</td>\n",
       "      <td>1.945910</td>\n",
       "      <td>0.794118</td>\n",
       "      <td>3.912023</td>\n",
       "      <td>0</td>\n",
       "    </tr>\n",
       "    <tr>\n",
       "      <th>3</th>\n",
       "      <td>Sales &amp; Marketing</td>\n",
       "      <td>21to30</td>\n",
       "      <td>Bachelor's</td>\n",
       "      <td>m</td>\n",
       "      <td>other</td>\n",
       "      <td>2</td>\n",
       "      <td>39</td>\n",
       "      <td>1.0</td>\n",
       "      <td>10</td>\n",
       "      <td>0</td>\n",
       "      <td>0</td>\n",
       "      <td>50</td>\n",
       "      <td>1</td>\n",
       "      <td>1</td>\n",
       "      <td>36-40</td>\n",
       "      <td>3.663562</td>\n",
       "      <td>2.302585</td>\n",
       "      <td>0.743590</td>\n",
       "      <td>3.912023</td>\n",
       "      <td>0</td>\n",
       "    </tr>\n",
       "    <tr>\n",
       "      <th>4</th>\n",
       "      <td>Technology</td>\n",
       "      <td>21to30</td>\n",
       "      <td>Bachelor's</td>\n",
       "      <td>m</td>\n",
       "      <td>other</td>\n",
       "      <td>1</td>\n",
       "      <td>45</td>\n",
       "      <td>3.0</td>\n",
       "      <td>2</td>\n",
       "      <td>0</td>\n",
       "      <td>0</td>\n",
       "      <td>73</td>\n",
       "      <td>1</td>\n",
       "      <td>1</td>\n",
       "      <td>41-45</td>\n",
       "      <td>3.806662</td>\n",
       "      <td>0.693147</td>\n",
       "      <td>0.955556</td>\n",
       "      <td>4.290459</td>\n",
       "      <td>0</td>\n",
       "    </tr>\n",
       "  </tbody>\n",
       "</table>\n",
       "</div>"
      ],
      "text/plain": [
       "          department  region         education gender recruitment_channel  \\\n",
       "0  Sales & Marketing   1to10  Master's & above      f            sourcing   \n",
       "1         Operations  21to30        Bachelor's      m               other   \n",
       "2  Sales & Marketing  11to20        Bachelor's      m            sourcing   \n",
       "3  Sales & Marketing  21to30        Bachelor's      m               other   \n",
       "4         Technology  21to30        Bachelor's      m               other   \n",
       "\n",
       "   no_of_trainings  age  previous_year_rating  length_of_service  \\\n",
       "0                1   35                   5.0                  8   \n",
       "1                1   30                   5.0                  4   \n",
       "2                1   34                   3.0                  7   \n",
       "3                2   39                   1.0                 10   \n",
       "4                1   45                   3.0                  2   \n",
       "\n",
       "   KPIs_met >80%  awards_won?  avg_training_score  no_of_trainings_promoted  \\\n",
       "0              1            0                  49                         1   \n",
       "1              0            0                  60                         1   \n",
       "2              0            0                  50                         1   \n",
       "3              0            0                  50                         1   \n",
       "4              0            0                  73                         1   \n",
       "\n",
       "   kpi_awards_trainingScore_promoted age_range   age_log  \\\n",
       "0                                  1     31-35  3.555348   \n",
       "1                                  1     26-30  3.401197   \n",
       "2                                  1     31-35  3.526361   \n",
       "3                                  1     36-40  3.663562   \n",
       "4                                  1     41-45  3.806662   \n",
       "\n",
       "   length_of_service_log  age_service  avg_training_score_log  \\\n",
       "0               2.079442     0.771429                3.891820   \n",
       "1               1.386294     0.866667                4.094345   \n",
       "2               1.945910     0.794118                3.912023   \n",
       "3               2.302585     0.743590                3.912023   \n",
       "4               0.693147     0.955556                4.290459   \n",
       "\n",
       "   avg_training_score_promoted  \n",
       "0                            0  \n",
       "1                            0  \n",
       "2                            0  \n",
       "3                            0  \n",
       "4                            0  "
      ]
     },
     "execution_count": 45,
     "metadata": {},
     "output_type": "execute_result"
    }
   ],
   "source": [
    "train_ds.head()"
   ]
  },
  {
   "cell_type": "code",
   "execution_count": 46,
   "metadata": {},
   "outputs": [],
   "source": [
    "# dropping of column (age and length of service) in both train and test dataset\n",
    "\n",
    "train_ds.drop([\"age\", \"length_of_service\"], axis=1, inplace=True)\n",
    "test_ds.drop([\"age\", \"length_of_service\"], axis=1, inplace=True)"
   ]
  },
  {
   "cell_type": "code",
   "execution_count": 47,
   "metadata": {},
   "outputs": [
    {
     "name": "stdout",
     "output_type": "stream",
     "text": [
      "(54808, 41)\n",
      "(23490, 41)\n"
     ]
    }
   ],
   "source": [
    "#converting \n",
    "train = pd.get_dummies(train_ds)\n",
    "test = pd.get_dummies(test_ds)\n",
    "#shape of updated train and test dataset\n",
    "print(train.shape)\n",
    "print(test.shape)"
   ]
  },
  {
   "cell_type": "code",
   "execution_count": 48,
   "metadata": {},
   "outputs": [
    {
     "data": {
      "text/html": [
       "<div>\n",
       "<style scoped>\n",
       "    .dataframe tbody tr th:only-of-type {\n",
       "        vertical-align: middle;\n",
       "    }\n",
       "\n",
       "    .dataframe tbody tr th {\n",
       "        vertical-align: top;\n",
       "    }\n",
       "\n",
       "    .dataframe thead th {\n",
       "        text-align: right;\n",
       "    }\n",
       "</style>\n",
       "<table border=\"1\" class=\"dataframe\">\n",
       "  <thead>\n",
       "    <tr style=\"text-align: right;\">\n",
       "      <th></th>\n",
       "      <th>no_of_trainings</th>\n",
       "      <th>previous_year_rating</th>\n",
       "      <th>KPIs_met &gt;80%</th>\n",
       "      <th>awards_won?</th>\n",
       "      <th>avg_training_score</th>\n",
       "      <th>no_of_trainings_promoted</th>\n",
       "      <th>kpi_awards_trainingScore_promoted</th>\n",
       "      <th>age_log</th>\n",
       "      <th>length_of_service_log</th>\n",
       "      <th>age_service</th>\n",
       "      <th>...</th>\n",
       "      <th>recruitment_channel_referred</th>\n",
       "      <th>recruitment_channel_sourcing</th>\n",
       "      <th>age_range_20-25</th>\n",
       "      <th>age_range_26-30</th>\n",
       "      <th>age_range_31-35</th>\n",
       "      <th>age_range_36-40</th>\n",
       "      <th>age_range_41-45</th>\n",
       "      <th>age_range_46-50</th>\n",
       "      <th>age_range_51-55</th>\n",
       "      <th>age_range_56-60</th>\n",
       "    </tr>\n",
       "  </thead>\n",
       "  <tbody>\n",
       "    <tr>\n",
       "      <th>0</th>\n",
       "      <td>1</td>\n",
       "      <td>5.0</td>\n",
       "      <td>1</td>\n",
       "      <td>0</td>\n",
       "      <td>49</td>\n",
       "      <td>1</td>\n",
       "      <td>1</td>\n",
       "      <td>3.555348</td>\n",
       "      <td>2.079442</td>\n",
       "      <td>0.771429</td>\n",
       "      <td>...</td>\n",
       "      <td>0</td>\n",
       "      <td>1</td>\n",
       "      <td>0</td>\n",
       "      <td>0</td>\n",
       "      <td>1</td>\n",
       "      <td>0</td>\n",
       "      <td>0</td>\n",
       "      <td>0</td>\n",
       "      <td>0</td>\n",
       "      <td>0</td>\n",
       "    </tr>\n",
       "    <tr>\n",
       "      <th>1</th>\n",
       "      <td>1</td>\n",
       "      <td>5.0</td>\n",
       "      <td>0</td>\n",
       "      <td>0</td>\n",
       "      <td>60</td>\n",
       "      <td>1</td>\n",
       "      <td>1</td>\n",
       "      <td>3.401197</td>\n",
       "      <td>1.386294</td>\n",
       "      <td>0.866667</td>\n",
       "      <td>...</td>\n",
       "      <td>0</td>\n",
       "      <td>0</td>\n",
       "      <td>0</td>\n",
       "      <td>1</td>\n",
       "      <td>0</td>\n",
       "      <td>0</td>\n",
       "      <td>0</td>\n",
       "      <td>0</td>\n",
       "      <td>0</td>\n",
       "      <td>0</td>\n",
       "    </tr>\n",
       "    <tr>\n",
       "      <th>2</th>\n",
       "      <td>1</td>\n",
       "      <td>3.0</td>\n",
       "      <td>0</td>\n",
       "      <td>0</td>\n",
       "      <td>50</td>\n",
       "      <td>1</td>\n",
       "      <td>1</td>\n",
       "      <td>3.526361</td>\n",
       "      <td>1.945910</td>\n",
       "      <td>0.794118</td>\n",
       "      <td>...</td>\n",
       "      <td>0</td>\n",
       "      <td>1</td>\n",
       "      <td>0</td>\n",
       "      <td>0</td>\n",
       "      <td>1</td>\n",
       "      <td>0</td>\n",
       "      <td>0</td>\n",
       "      <td>0</td>\n",
       "      <td>0</td>\n",
       "      <td>0</td>\n",
       "    </tr>\n",
       "    <tr>\n",
       "      <th>3</th>\n",
       "      <td>2</td>\n",
       "      <td>1.0</td>\n",
       "      <td>0</td>\n",
       "      <td>0</td>\n",
       "      <td>50</td>\n",
       "      <td>1</td>\n",
       "      <td>1</td>\n",
       "      <td>3.663562</td>\n",
       "      <td>2.302585</td>\n",
       "      <td>0.743590</td>\n",
       "      <td>...</td>\n",
       "      <td>0</td>\n",
       "      <td>0</td>\n",
       "      <td>0</td>\n",
       "      <td>0</td>\n",
       "      <td>0</td>\n",
       "      <td>1</td>\n",
       "      <td>0</td>\n",
       "      <td>0</td>\n",
       "      <td>0</td>\n",
       "      <td>0</td>\n",
       "    </tr>\n",
       "    <tr>\n",
       "      <th>4</th>\n",
       "      <td>1</td>\n",
       "      <td>3.0</td>\n",
       "      <td>0</td>\n",
       "      <td>0</td>\n",
       "      <td>73</td>\n",
       "      <td>1</td>\n",
       "      <td>1</td>\n",
       "      <td>3.806662</td>\n",
       "      <td>0.693147</td>\n",
       "      <td>0.955556</td>\n",
       "      <td>...</td>\n",
       "      <td>0</td>\n",
       "      <td>0</td>\n",
       "      <td>0</td>\n",
       "      <td>0</td>\n",
       "      <td>0</td>\n",
       "      <td>0</td>\n",
       "      <td>1</td>\n",
       "      <td>0</td>\n",
       "      <td>0</td>\n",
       "      <td>0</td>\n",
       "    </tr>\n",
       "  </tbody>\n",
       "</table>\n",
       "<p>5 rows × 41 columns</p>\n",
       "</div>"
      ],
      "text/plain": [
       "   no_of_trainings  previous_year_rating  KPIs_met >80%  awards_won?  \\\n",
       "0                1                   5.0              1            0   \n",
       "1                1                   5.0              0            0   \n",
       "2                1                   3.0              0            0   \n",
       "3                2                   1.0              0            0   \n",
       "4                1                   3.0              0            0   \n",
       "\n",
       "   avg_training_score  no_of_trainings_promoted  \\\n",
       "0                  49                         1   \n",
       "1                  60                         1   \n",
       "2                  50                         1   \n",
       "3                  50                         1   \n",
       "4                  73                         1   \n",
       "\n",
       "   kpi_awards_trainingScore_promoted   age_log  length_of_service_log  \\\n",
       "0                                  1  3.555348               2.079442   \n",
       "1                                  1  3.401197               1.386294   \n",
       "2                                  1  3.526361               1.945910   \n",
       "3                                  1  3.663562               2.302585   \n",
       "4                                  1  3.806662               0.693147   \n",
       "\n",
       "   age_service  ...  recruitment_channel_referred  \\\n",
       "0     0.771429  ...                             0   \n",
       "1     0.866667  ...                             0   \n",
       "2     0.794118  ...                             0   \n",
       "3     0.743590  ...                             0   \n",
       "4     0.955556  ...                             0   \n",
       "\n",
       "   recruitment_channel_sourcing  age_range_20-25  age_range_26-30  \\\n",
       "0                             1                0                0   \n",
       "1                             0                0                1   \n",
       "2                             1                0                0   \n",
       "3                             0                0                0   \n",
       "4                             0                0                0   \n",
       "\n",
       "   age_range_31-35  age_range_36-40  age_range_41-45  age_range_46-50  \\\n",
       "0                1                0                0                0   \n",
       "1                0                0                0                0   \n",
       "2                1                0                0                0   \n",
       "3                0                1                0                0   \n",
       "4                0                0                1                0   \n",
       "\n",
       "   age_range_51-55  age_range_56-60  \n",
       "0                0                0  \n",
       "1                0                0  \n",
       "2                0                0  \n",
       "3                0                0  \n",
       "4                0                0  \n",
       "\n",
       "[5 rows x 41 columns]"
      ]
     },
     "execution_count": 48,
     "metadata": {},
     "output_type": "execute_result"
    }
   ],
   "source": [
    "# reading a 6 rows of updated train dataset\n",
    "train.head()"
   ]
  },
  {
   "cell_type": "code",
   "execution_count": 49,
   "metadata": {
    "scrolled": true
   },
   "outputs": [
    {
     "data": {
      "text/html": [
       "<div>\n",
       "<style scoped>\n",
       "    .dataframe tbody tr th:only-of-type {\n",
       "        vertical-align: middle;\n",
       "    }\n",
       "\n",
       "    .dataframe tbody tr th {\n",
       "        vertical-align: top;\n",
       "    }\n",
       "\n",
       "    .dataframe thead th {\n",
       "        text-align: right;\n",
       "    }\n",
       "</style>\n",
       "<table border=\"1\" class=\"dataframe\">\n",
       "  <thead>\n",
       "    <tr style=\"text-align: right;\">\n",
       "      <th></th>\n",
       "      <th>no_of_trainings</th>\n",
       "      <th>previous_year_rating</th>\n",
       "      <th>KPIs_met &gt;80%</th>\n",
       "      <th>awards_won?</th>\n",
       "      <th>avg_training_score</th>\n",
       "      <th>no_of_trainings_promoted</th>\n",
       "      <th>kpi_awards_trainingScore_promoted</th>\n",
       "      <th>age_log</th>\n",
       "      <th>length_of_service_log</th>\n",
       "      <th>age_service</th>\n",
       "      <th>...</th>\n",
       "      <th>recruitment_channel_referred</th>\n",
       "      <th>recruitment_channel_sourcing</th>\n",
       "      <th>age_range_20-25</th>\n",
       "      <th>age_range_26-30</th>\n",
       "      <th>age_range_31-35</th>\n",
       "      <th>age_range_36-40</th>\n",
       "      <th>age_range_41-45</th>\n",
       "      <th>age_range_46-50</th>\n",
       "      <th>age_range_51-55</th>\n",
       "      <th>age_range_56-60</th>\n",
       "    </tr>\n",
       "  </thead>\n",
       "  <tbody>\n",
       "    <tr>\n",
       "      <th>0</th>\n",
       "      <td>1</td>\n",
       "      <td>3.0</td>\n",
       "      <td>1</td>\n",
       "      <td>0</td>\n",
       "      <td>77</td>\n",
       "      <td>1</td>\n",
       "      <td>1</td>\n",
       "      <td>3.178054</td>\n",
       "      <td>0.000000</td>\n",
       "      <td>0.958333</td>\n",
       "      <td>...</td>\n",
       "      <td>0</td>\n",
       "      <td>1</td>\n",
       "      <td>1</td>\n",
       "      <td>0</td>\n",
       "      <td>0</td>\n",
       "      <td>0</td>\n",
       "      <td>0</td>\n",
       "      <td>0</td>\n",
       "      <td>0</td>\n",
       "      <td>0</td>\n",
       "    </tr>\n",
       "    <tr>\n",
       "      <th>1</th>\n",
       "      <td>1</td>\n",
       "      <td>3.0</td>\n",
       "      <td>0</td>\n",
       "      <td>0</td>\n",
       "      <td>51</td>\n",
       "      <td>1</td>\n",
       "      <td>1</td>\n",
       "      <td>3.433987</td>\n",
       "      <td>1.609438</td>\n",
       "      <td>0.838710</td>\n",
       "      <td>...</td>\n",
       "      <td>0</td>\n",
       "      <td>0</td>\n",
       "      <td>0</td>\n",
       "      <td>0</td>\n",
       "      <td>1</td>\n",
       "      <td>0</td>\n",
       "      <td>0</td>\n",
       "      <td>0</td>\n",
       "      <td>0</td>\n",
       "      <td>0</td>\n",
       "    </tr>\n",
       "    <tr>\n",
       "      <th>2</th>\n",
       "      <td>1</td>\n",
       "      <td>1.0</td>\n",
       "      <td>0</td>\n",
       "      <td>0</td>\n",
       "      <td>47</td>\n",
       "      <td>1</td>\n",
       "      <td>1</td>\n",
       "      <td>3.433987</td>\n",
       "      <td>1.386294</td>\n",
       "      <td>0.870968</td>\n",
       "      <td>...</td>\n",
       "      <td>0</td>\n",
       "      <td>0</td>\n",
       "      <td>0</td>\n",
       "      <td>0</td>\n",
       "      <td>1</td>\n",
       "      <td>0</td>\n",
       "      <td>0</td>\n",
       "      <td>0</td>\n",
       "      <td>0</td>\n",
       "      <td>0</td>\n",
       "    </tr>\n",
       "    <tr>\n",
       "      <th>3</th>\n",
       "      <td>3</td>\n",
       "      <td>2.0</td>\n",
       "      <td>0</td>\n",
       "      <td>0</td>\n",
       "      <td>65</td>\n",
       "      <td>1</td>\n",
       "      <td>1</td>\n",
       "      <td>3.433987</td>\n",
       "      <td>2.197225</td>\n",
       "      <td>0.709677</td>\n",
       "      <td>...</td>\n",
       "      <td>0</td>\n",
       "      <td>0</td>\n",
       "      <td>0</td>\n",
       "      <td>0</td>\n",
       "      <td>1</td>\n",
       "      <td>0</td>\n",
       "      <td>0</td>\n",
       "      <td>0</td>\n",
       "      <td>0</td>\n",
       "      <td>0</td>\n",
       "    </tr>\n",
       "    <tr>\n",
       "      <th>4</th>\n",
       "      <td>1</td>\n",
       "      <td>4.0</td>\n",
       "      <td>0</td>\n",
       "      <td>0</td>\n",
       "      <td>61</td>\n",
       "      <td>1</td>\n",
       "      <td>1</td>\n",
       "      <td>3.401197</td>\n",
       "      <td>1.945910</td>\n",
       "      <td>0.766667</td>\n",
       "      <td>...</td>\n",
       "      <td>0</td>\n",
       "      <td>1</td>\n",
       "      <td>0</td>\n",
       "      <td>1</td>\n",
       "      <td>0</td>\n",
       "      <td>0</td>\n",
       "      <td>0</td>\n",
       "      <td>0</td>\n",
       "      <td>0</td>\n",
       "      <td>0</td>\n",
       "    </tr>\n",
       "  </tbody>\n",
       "</table>\n",
       "<p>5 rows × 41 columns</p>\n",
       "</div>"
      ],
      "text/plain": [
       "   no_of_trainings  previous_year_rating  KPIs_met >80%  awards_won?  \\\n",
       "0                1                   3.0              1            0   \n",
       "1                1                   3.0              0            0   \n",
       "2                1                   1.0              0            0   \n",
       "3                3                   2.0              0            0   \n",
       "4                1                   4.0              0            0   \n",
       "\n",
       "   avg_training_score  no_of_trainings_promoted  \\\n",
       "0                  77                         1   \n",
       "1                  51                         1   \n",
       "2                  47                         1   \n",
       "3                  65                         1   \n",
       "4                  61                         1   \n",
       "\n",
       "   kpi_awards_trainingScore_promoted   age_log  length_of_service_log  \\\n",
       "0                                  1  3.178054               0.000000   \n",
       "1                                  1  3.433987               1.609438   \n",
       "2                                  1  3.433987               1.386294   \n",
       "3                                  1  3.433987               2.197225   \n",
       "4                                  1  3.401197               1.945910   \n",
       "\n",
       "   age_service  ...  recruitment_channel_referred  \\\n",
       "0     0.958333  ...                             0   \n",
       "1     0.838710  ...                             0   \n",
       "2     0.870968  ...                             0   \n",
       "3     0.709677  ...                             0   \n",
       "4     0.766667  ...                             0   \n",
       "\n",
       "   recruitment_channel_sourcing  age_range_20-25  age_range_26-30  \\\n",
       "0                             1                1                0   \n",
       "1                             0                0                0   \n",
       "2                             0                0                0   \n",
       "3                             0                0                0   \n",
       "4                             1                0                1   \n",
       "\n",
       "   age_range_31-35  age_range_36-40  age_range_41-45  age_range_46-50  \\\n",
       "0                0                0                0                0   \n",
       "1                1                0                0                0   \n",
       "2                1                0                0                0   \n",
       "3                1                0                0                0   \n",
       "4                0                0                0                0   \n",
       "\n",
       "   age_range_51-55  age_range_56-60  \n",
       "0                0                0  \n",
       "1                0                0  \n",
       "2                0                0  \n",
       "3                0                0  \n",
       "4                0                0  \n",
       "\n",
       "[5 rows x 41 columns]"
      ]
     },
     "execution_count": 49,
     "metadata": {},
     "output_type": "execute_result"
    }
   ],
   "source": [
    "# reading a 6 rows of updated test dataset\n",
    "test.head()"
   ]
  },
  {
   "cell_type": "markdown",
   "metadata": {},
   "source": [
    "#Data Splitting\n",
    "\n",
    "We are going to use train_test_split of sklearn to split the data.\n",
    "training-data - 70.00%\n",
    "test-data - 30.00%"
   ]
  },
  {
   "cell_type": "code",
   "execution_count": 50,
   "metadata": {},
   "outputs": [],
   "source": [
    "#splitting of train and test dataset\n",
    "from sklearn.model_selection import train_test_split\n",
    "x_train, x_test, y_train, y_test = train_test_split(train, target, test_size=0.3, random_state=42)"
   ]
  },
  {
   "cell_type": "markdown",
   "metadata": {},
   "source": [
    "## Traning the Model\n",
    "Here we have been used following classifier to train the model:\n",
    " 1. Logistic Regression\n",
    " 2. Decision Tree(Before Pruning)\n",
    " 3. Decision Tree(After Pruning)\n",
    " 4. Random Forest\n",
    " 5. K-Nearest Neighbors\n",
    " 6. Support Vector Machine\n",
    " \n",
    "Boosting in Machine Learning\n",
    "\n",
    " 7. AdaBoost\n",
    " 8. Gradient Boost\n",
    " 9. XGBoost\n"
   ]
  },
  {
   "cell_type": "markdown",
   "metadata": {},
   "source": [
    "# Logistic Regression\n",
    "Logistic regression is a supervised learning classification algorithm through which we can predict the probability of a target variable."
   ]
  },
  {
   "cell_type": "code",
   "execution_count": 51,
   "metadata": {},
   "outputs": [
    {
     "name": "stdout",
     "output_type": "stream",
     "text": [
      "Accuracy = 0.9349875326886821\n",
      "\n",
      "\n",
      "Classification_Report =                precision    recall  f1-score   support\n",
      "\n",
      "           0       0.94      0.99      0.97     15110\n",
      "           1       0.81      0.26      0.39      1333\n",
      "\n",
      "    accuracy                           0.93     16443\n",
      "   macro avg       0.88      0.63      0.68     16443\n",
      "weighted avg       0.93      0.93      0.92     16443\n",
      "\n",
      "\n",
      "\n",
      "Confusion_Matrix =  [[15031    79]\n",
      " [  990   343]]\n"
     ]
    }
   ],
   "source": [
    "\n",
    "#LOGISTIC REGRESSION\n",
    "\n",
    "from sklearn.linear_model import LogisticRegression\n",
    "logmodel = LogisticRegression(max_iter=1000) \n",
    "logmodel.fit(x_train, y_train)\n",
    "\n",
    "lr_pred = logmodel.predict(x_test)\n",
    "\n",
    "from sklearn.metrics import confusion_matrix, classification_report,accuracy_score,f1_score\n",
    "\n",
    "\n",
    "print(\"Accuracy =\",accuracy_score(y_test,lr_pred))\n",
    "print('\\n')\n",
    "print(\"Classification_Report = \",classification_report(y_test, lr_pred))\n",
    "print('\\n')\n",
    "print(\"Confusion_Matrix = \",confusion_matrix(y_test, lr_pred))\n",
    "\n",
    "\n"
   ]
  },
  {
   "cell_type": "markdown",
   "metadata": {},
   "source": [
    "# Decision tree\n",
    "It is a tree-like structure which is used to get all possible solution for given model based on some given criteria.\n"
   ]
  },
  {
   "cell_type": "code",
   "execution_count": 52,
   "metadata": {},
   "outputs": [
    {
     "name": "stdout",
     "output_type": "stream",
     "text": [
      "Accuracy =  0.8983153925682661\n",
      "\n",
      "\n",
      "Classification_Report =                precision    recall  f1-score   support\n",
      "\n",
      "           0       0.95      0.94      0.94     15110\n",
      "           1       0.39      0.46      0.42      1333\n",
      "\n",
      "    accuracy                           0.90     16443\n",
      "   macro avg       0.67      0.70      0.68     16443\n",
      "weighted avg       0.91      0.90      0.90     16443\n",
      "\n",
      "\n",
      "\n",
      "Confusion_Matrix =  [[14164   946]\n",
      " [  726   607]]\n"
     ]
    }
   ],
   "source": [
    "# DECISION TREE CLASSIFICATION ( before pruning)\n",
    "\n",
    "from sklearn.tree import DecisionTreeClassifier\n",
    "dt_model = DecisionTreeClassifier(random_state=100)\n",
    "dt_model.fit(x_train, y_train)\n",
    "dt_pred = dt_model.predict(x_test)\n",
    "\n",
    "from sklearn.metrics import confusion_matrix, classification_report,accuracy_score,f1_score\n",
    "\n",
    "print(\"Accuracy = \",accuracy_score(y_test,dt_pred))\n",
    "print('\\n')\n",
    "print(\"Classification_Report = \",classification_report(y_test, dt_pred))\n",
    "print('\\n')\n",
    "print(\"Confusion_Matrix = \",confusion_matrix(y_test, dt_pred))"
   ]
  },
  {
   "cell_type": "markdown",
   "metadata": {},
   "source": [
    "# Pruning\n",
    "Pruning is the one which have been used to increase the accuracy of decision tree"
   ]
  },
  {
   "cell_type": "code",
   "execution_count": 53,
   "metadata": {},
   "outputs": [
    {
     "data": {
      "text/plain": [
       "DecisionTreeClassifier(ccp_alpha=0.0, class_weight=None, criterion='entropy',\n",
       "                       max_depth=3, max_features=None, max_leaf_nodes=10,\n",
       "                       min_impurity_decrease=0.0, min_impurity_split=None,\n",
       "                       min_samples_leaf=1, min_samples_split=10,\n",
       "                       min_weight_fraction_leaf=0.0, presort='deprecated',\n",
       "                       random_state=100, splitter='random')"
      ]
     },
     "execution_count": 53,
     "metadata": {},
     "output_type": "execute_result"
    }
   ],
   "source": [
    "# Pruning \n",
    "\n",
    "dt_model1 = DecisionTreeClassifier(criterion = 'entropy',splitter='random',max_leaf_nodes=10,min_samples_leaf=1,min_samples_split=10,random_state=100,max_depth=3)\n",
    "dt_model1.fit(x_train, y_train)"
   ]
  },
  {
   "cell_type": "code",
   "execution_count": 54,
   "metadata": {},
   "outputs": [
    {
     "name": "stdout",
     "output_type": "stream",
     "text": [
      "Accuracy =  0.9272030651340997\n",
      "\n",
      "\n",
      "Classification_Report =                precision    recall  f1-score   support\n",
      "\n",
      "           0       0.93      1.00      0.96     15110\n",
      "           1       0.96      0.11      0.19      1333\n",
      "\n",
      "    accuracy                           0.93     16443\n",
      "   macro avg       0.94      0.55      0.58     16443\n",
      "weighted avg       0.93      0.93      0.90     16443\n",
      "\n",
      "\n",
      "\n",
      "Confusion_Matrix =  [[15104     6]\n",
      " [ 1191   142]]\n"
     ]
    }
   ],
   "source": [
    "#Decision tree ( after Pruning)\n",
    "\n",
    "dt_pred1 = dt_model1.predict(x_test)\n",
    "\n",
    "print(\"Accuracy = \",accuracy_score(y_test,dt_pred1))\n",
    "print('\\n')\n",
    "print(\"Classification_Report = \",classification_report(y_test, dt_pred1))\n",
    "print('\\n')\n",
    "print(\"Confusion_Matrix = \",confusion_matrix(y_test, dt_pred1))\n"
   ]
  },
  {
   "cell_type": "markdown",
   "metadata": {},
   "source": [
    "# Random Forest classification\n",
    "Random Forest construct an tree similar to decision tree for an given model through which it will predict the each and every data and finally select the best solution by means of voting."
   ]
  },
  {
   "cell_type": "code",
   "execution_count": 55,
   "metadata": {},
   "outputs": [
    {
     "name": "stdout",
     "output_type": "stream",
     "text": [
      "Accuracy =  0.9402785379796874\n",
      "\n",
      "\n",
      "Classification_Report =                precision    recall  f1-score   support\n",
      "\n",
      "           0       0.94      0.99      0.97     15110\n",
      "           1       0.84      0.33      0.47      1333\n",
      "\n",
      "    accuracy                           0.94     16443\n",
      "   macro avg       0.89      0.66      0.72     16443\n",
      "weighted avg       0.93      0.94      0.93     16443\n",
      "\n",
      "\n",
      "\n",
      "Confusion_Matrix =  [[15024    86]\n",
      " [  896   437]]\n"
     ]
    }
   ],
   "source": [
    "# Random Forest classification\n",
    "\n",
    "from sklearn.ensemble import RandomForestClassifier\n",
    "rf_model = RandomForestClassifier(n_estimators=200,criterion = 'gini',max_features='auto',random_state=100,max_depth=50)\n",
    "rf_model.fit(x_train,y_train)\n",
    "r_pred = rf_model.predict(x_test)\n",
    "\n",
    "from sklearn.metrics import confusion_matrix, classification_report,accuracy_score\n",
    "\n",
    "print(\"Accuracy = \",accuracy_score(y_test,r_pred))\n",
    "print('\\n')\n",
    "print(\"Classification_Report = \",classification_report(y_test, r_pred))\n",
    "print('\\n')\n",
    "print(\"Confusion_Matrix = \",confusion_matrix(y_test, r_pred))"
   ]
  },
  {
   "cell_type": "markdown",
   "metadata": {},
   "source": [
    "# K Nearest Neighbor\n",
    "K-Nearest Neighbors is one of the simplest algorithms used in Machine Learning. KNN algorithms use data and classify new data points based on similarity measures (e.g. distance function). Classification is done by a majority vote to its neighbors."
   ]
  },
  {
   "cell_type": "code",
   "execution_count": 56,
   "metadata": {},
   "outputs": [
    {
     "name": "stdout",
     "output_type": "stream",
     "text": [
      "Accuracy =  0.9312777473697014\n",
      "\n",
      "\n",
      "Classification_Report               precision    recall  f1-score   support\n",
      "\n",
      "           0       0.93      1.00      0.96     15110\n",
      "           1       0.97      0.16      0.27      1333\n",
      "\n",
      "    accuracy                           0.93     16443\n",
      "   macro avg       0.95      0.58      0.62     16443\n",
      "weighted avg       0.93      0.93      0.91     16443\n",
      "\n",
      "\n",
      "\n",
      "Confusion_Matrix [[15104     6]\n",
      " [ 1124   209]]\n"
     ]
    }
   ],
   "source": [
    "# K NEAREST NEIGHBOR\n",
    "\n",
    "\n",
    "from sklearn.metrics import confusion_matrix, accuracy_score,classification_report,accuracy_score\n",
    "from sklearn.neighbors import KNeighborsClassifier\n",
    "\n",
    "knn_model = KNeighborsClassifier(n_neighbors=10,algorithm='auto',leaf_size=2 ,metric='minkowski',\n",
    "            metric_params=None, n_jobs=1,  p=1,weights='uniform')\n",
    "knn_model.fit(x_train,y_train)\n",
    "knn_pred = knn_model.predict(x_test)\n",
    "\n",
    "print('Accuracy = ',accuracy_score(y_test,knn_pred))\n",
    "print('\\n')\n",
    "print(\"Classification_Report\",classification_report(y_test, knn_pred))\n",
    "print('\\n')\n",
    "print(\"Confusion_Matrix\",confusion_matrix(y_test, knn_pred))"
   ]
  },
  {
   "cell_type": "markdown",
   "metadata": {},
   "source": [
    "# AdaBoost\n",
    "AdaBoost was the first really successful boosting algorithm developed for the purpose of binary classification. AdaBoost is short for Adaptive Boosting and is a very popular boosting technique which combines multiple “weak classifiers” into a single “strong classifier”."
   ]
  },
  {
   "cell_type": "code",
   "execution_count": 57,
   "metadata": {},
   "outputs": [
    {
     "name": "stdout",
     "output_type": "stream",
     "text": [
      "Accuracy =  0.9281761235784224\n",
      "\n",
      "\n",
      "Classification_Report               precision    recall  f1-score   support\n",
      "\n",
      "           0       0.93      0.99      0.96     15110\n",
      "           1       0.73      0.18      0.29      1333\n",
      "\n",
      "    accuracy                           0.93     16443\n",
      "   macro avg       0.83      0.59      0.63     16443\n",
      "weighted avg       0.92      0.93      0.91     16443\n",
      "\n",
      "\n",
      "\n",
      "Confusion_Matrix [[15023    87]\n",
      " [ 1094   239]]\n"
     ]
    }
   ],
   "source": [
    "#AdaBoost\n",
    "\n",
    "from sklearn.ensemble import AdaBoostClassifier\n",
    "Adaboost = AdaBoostClassifier(n_estimators=50,random_state=100)\n",
    "Adaboost.fit(x_train,y_train)\n",
    "ab_pred = Adaboost.predict (x_test)\n",
    "\n",
    "\n",
    "print('Accuracy = ',accuracy_score(y_test,ab_pred))\n",
    "print('\\n')\n",
    "print(\"Classification_Report\",classification_report(y_test, ab_pred))\n",
    "print('\\n')\n",
    "print(\"Confusion_Matrix\",confusion_matrix(y_test, ab_pred))"
   ]
  },
  {
   "cell_type": "markdown",
   "metadata": {},
   "source": [
    "# Gradient boosting\n",
    "Gradient boosting is a machine learning technique for regression and classification problems, which produces a prediction model in the form of an ensemble of weak prediction models, typically decision trees."
   ]
  },
  {
   "cell_type": "code",
   "execution_count": 58,
   "metadata": {},
   "outputs": [
    {
     "name": "stdout",
     "output_type": "stream",
     "text": [
      "Accuracy =  0.9275679620507207\n",
      "\n",
      "\n",
      "Classification_Report =                precision    recall  f1-score   support\n",
      "\n",
      "           0       0.93      1.00      0.96     15110\n",
      "           1       0.82      0.14      0.23      1333\n",
      "\n",
      "    accuracy                           0.93     16443\n",
      "   macro avg       0.88      0.57      0.60     16443\n",
      "weighted avg       0.92      0.93      0.90     16443\n",
      "\n",
      "\n",
      "\n",
      "Confusion_Matrix =  [[15071    39]\n",
      " [ 1152   181]]\n"
     ]
    }
   ],
   "source": [
    "#Gradient Boost\n",
    "\n",
    "from sklearn.ensemble import GradientBoostingClassifier\n",
    "from sklearn.metrics import classification_report, confusion_matrix, roc_curve, accuracy_score\n",
    "\n",
    "gb_model = GradientBoostingClassifier(n_estimators=20, learning_rate = 0.5, max_features=2, max_depth = 2, random_state = 0)\n",
    "gb_model.fit(x_train, y_train)\n",
    "g_pred = gb_model.predict(x_test)\n",
    "\n",
    "print('Accuracy = ', accuracy_score(y_test,g_pred))\n",
    "print('\\n')\n",
    "print(\"Classification_Report = \",classification_report(y_test, g_pred))\n",
    "print('\\n')\n",
    "print(\"Confusion_Matrix = \",confusion_matrix(y_test,g_pred))"
   ]
  },
  {
   "cell_type": "markdown",
   "metadata": {},
   "source": [
    "# XGBoost\n",
    "XGBoost stands for “Extreme Gradient Boosting. It is a decision-tree-based ensemble Machine Learning algorithm that uses a gradient boosting framework. "
   ]
  },
  {
   "cell_type": "code",
   "execution_count": 59,
   "metadata": {},
   "outputs": [
    {
     "name": "stdout",
     "output_type": "stream",
     "text": [
      "Accuracy =  0.9452654625068418\n",
      "\n",
      "\n",
      "Classification_Report               precision    recall  f1-score   support\n",
      "\n",
      "           0       0.95      1.00      0.97     15110\n",
      "           1       0.95      0.34      0.50      1333\n",
      "\n",
      "    accuracy                           0.95     16443\n",
      "   macro avg       0.95      0.67      0.74     16443\n",
      "weighted avg       0.95      0.95      0.93     16443\n",
      "\n",
      "\n",
      "\n",
      "Confusion_Matrix [[15084    26]\n",
      " [  874   459]]\n"
     ]
    }
   ],
   "source": [
    "# XGBoost\n",
    "\n",
    "from sklearn.metrics import classification_report, confusion_matrix, roc_curve, accuracy_score\n",
    "import  xgboost as xgb\n",
    "xg_model = xgb.XGBClassifier(max_depth=4,\n",
    "                        subsample=0.9,\n",
    "                        objective='binary:logistic',\n",
    "                        n_estimators=200,\n",
    "                        learning_rate = 0.1)\n",
    "xg_model.fit(x_train, y_train)\n",
    "xg_pred = xg_model.predict(x_test)\n",
    "\n",
    "print('Accuracy = ', accuracy_score(y_test,xg_pred))\n",
    "print('\\n')\n",
    "print(\"Classification_Report\",classification_report(y_test, xg_pred))\n",
    "print('\\n')\n",
    "print(\"Confusion_Matrix\",confusion_matrix(y_test, xg_pred))"
   ]
  },
  {
   "cell_type": "markdown",
   "metadata": {},
   "source": [
    "# Support Vector Machine\n",
    "SVM is basically a representation of different classes in a hyperplane in multidimensional space. The hyperplane will be generated in an iterative manner by SVM so that the error can be minimized. The goal of SVM is to divide the datasets into classes to find a maximum marginal hyperplane "
   ]
  },
  {
   "cell_type": "code",
   "execution_count": 60,
   "metadata": {},
   "outputs": [
    {
     "name": "stdout",
     "output_type": "stream",
     "text": [
      "Accuracy =  0.9284802043422733\n",
      "\n",
      "\n",
      "Classification_Report               precision    recall  f1-score   support\n",
      "\n",
      "           0       0.93      1.00      0.96     15110\n",
      "           1       0.80      0.16      0.26      1333\n",
      "\n",
      "    accuracy                           0.93     16443\n",
      "   macro avg       0.87      0.58      0.61     16443\n",
      "weighted avg       0.92      0.93      0.91     16443\n",
      "\n",
      "\n",
      "\n",
      "Confusion_Matrix [[15058    52]\n",
      " [ 1124   209]]\n"
     ]
    }
   ],
   "source": [
    "# Support Vector Machine\n",
    "\n",
    "from sklearn.svm import SVC\n",
    "SVM_model = SVC(kernel='linear')\n",
    "\n",
    "SVM_model.fit(x_train,y_train)\n",
    "\n",
    "svm_pred = SVM_model.predict(x_test)\n",
    "\n",
    "from sklearn.metrics import confusion_matrix, classification_report,accuracy_score\n",
    "\n",
    "\n",
    "print('Accuracy = ',accuracy_score(y_test,svm_pred))\n",
    "print('\\n')\n",
    "print(\"Classification_Report\",classification_report(y_test, svm_pred))\n",
    "print('\\n')\n",
    "print(\"Confusion_Matrix\",confusion_matrix(y_test, svm_pred))"
   ]
  },
  {
   "cell_type": "markdown",
   "metadata": {},
   "source": [
    "# Comparing and Visualizing the results of all classifiers"
   ]
  },
  {
   "cell_type": "code",
   "execution_count": 61,
   "metadata": {},
   "outputs": [
    {
     "name": "stdout",
     "output_type": "stream",
     "text": [
      "Accuracy_Score \n",
      "\n",
      "\n",
      "Logistic Regreesion : 0.9349875326886821\n",
      "Decision Tree(Before Pruning) : 0.8983153925682661\n",
      "Decision Tree(after Pruning) : 0.9272030651340997\n",
      "Random Forest : 0.9402785379796874\n",
      "K-Nearest Neighbors : 0.9312777473697014\n",
      "AdaBoost : 0.9281761235784224\n",
      "Gradient Boost : 0.9275679620507207\n",
      "XGBoost : 0.9452654625068418\n",
      "Support Vector Machine : 0.9284802043422733\n"
     ]
    }
   ],
   "source": [
    "\n",
    "print ( \"Accuracy_Score \")\n",
    "print('\\n')\n",
    "\n",
    "\n",
    "# Building the two lists for visualization \n",
    "classifiers = ['LR','DT1','DT2',\n",
    "         'RF','KNN','AB',\n",
    "         'GB','XG','SVM'] \n",
    "scores = [accuracy_score(y_test,lr_pred),accuracy_score(y_test,dt_pred),accuracy_score(y_test,dt_pred1),\n",
    "         accuracy_score(y_test,r_pred),accuracy_score(y_test,knn_pred),\n",
    "         accuracy_score(y_test,ab_pred),accuracy_score(y_test,g_pred),\n",
    "         accuracy_score(y_test,xg_pred),accuracy_score(y_test,svm_pred)] \n",
    "  \n",
    "# Building the dictionary to compare the scores \n",
    "mapping = {} \n",
    "mapping[\"Logistic Regreesion\"] =accuracy_score(y_test,lr_pred) \n",
    "mapping[\"Decision Tree(Before Pruning)\"] = accuracy_score(y_test,dt_pred)\n",
    "mapping[\"Decision Tree(after Pruning)\"] = accuracy_score(y_test,dt_pred1)\n",
    "mapping[\"Random Forest\"] = accuracy_score(y_test,r_pred)\n",
    "mapping[\"K-Nearest Neighbors\"] = accuracy_score(y_test,knn_pred)\n",
    "mapping[\"AdaBoost\"] = accuracy_score(y_test,ab_pred)\n",
    "mapping[\"Gradient Boost\"] = accuracy_score(y_test,g_pred)\n",
    "mapping[\"XGBoost\"] = accuracy_score(y_test,xg_pred)\n",
    "mapping[\"Support Vector Machine\"] = accuracy_score(y_test,svm_pred)\n",
    "  \n",
    "# Printing the scores for different models \n",
    "for key, val in mapping.items(): \n",
    "    print(str(key)+' : '+str(val)) "
   ]
  },
  {
   "cell_type": "markdown",
   "metadata": {},
   "source": [
    " # Plotting the results\n",
    " barplot are plotted for the following classifiers \n",
    "1. Logistic Regression are expressed as\t        (LR)\n",
    "2. Decision Tree(Before Pruning) are expressed as\t\t(DT1)\n",
    "3. Decision Tree(After Pruning)\tare expressed as\t    (DT2)\n",
    "4. Random Forest\tare expressed as\t\t            (RF)\n",
    "5. K-Nearest Neighbors\tare expressed as\t\t        (KNN)\n",
    "6. AdaBoost\tare expressed as\t\t\t                (AB)\n",
    "7. Gradient Boost\tare expressed as\t\t            (GB)\n",
    "8. XGBoost\tare expressed as\t\t\t                (XG)\n",
    "9. Support Vector Machine\tare expressed as\t        (SVM)"
   ]
  },
  {
   "cell_type": "code",
   "execution_count": 62,
   "metadata": {},
   "outputs": [
    {
     "data": {
      "image/png": "[encoded data removed]",
      "text/plain": [
       "<Figure size 432x288 with 1 Axes>"
      ]
     },
     "metadata": {
      "needs_background": "light"
     },
     "output_type": "display_data"
    }
   ],
   "source": [
    "plt.bar(classifiers, scores,color=['deepskyblue','sandybrown','khaki','lightcoral',\n",
    "                                   'deepskyblue','khaki','khaki',\n",
    "                                   'lightcoral', 'khaki']) \n",
    "plt.ylabel('Score') \n",
    "plt.xlabel('Classifiers') \n",
    "plt.show()"
   ]
  },
  {
   "cell_type": "markdown",
   "metadata": {},
   "source": [
    "# Analysis of the dataset\n",
    "0.94027 and 0.94526 are the accuracy of Random Forest and XGBoost respectively.\n",
    "From the barplot we would able to find the following\n",
    "1. color \"lightcoral\" represents that we have high accuracy on both Random Forest and XGBoost and its about 94%.\n",
    "2. color \"deepskyblue\" represents the accuracy of Logistic_Regression and K-nearest neighbors, its about 93%.\n",
    "3. Color \"sandybrown\" represents the accuracy of Decision tree before Pruning and it is about 89% accuracy.\n",
    "4. color \"khaki\" represents that we have the accuracy about 92% for decision tree after pruning,AdaBoost, Gradient Boost and Support Vector Machine.\n",
    "\n"
   ]
  },
  {
   "cell_type": "markdown",
   "metadata": {},
   "source": [
    "# Testing the `Test.csv`\n",
    "XGBoost is the best algorithm with 94% and it is used to predict the value."
   ]
  },
  {
   "cell_type": "code",
   "execution_count": 63,
   "metadata": {},
   "outputs": [],
   "source": [
    "\n",
    "y_pred = xg_model.predict(test).astype(int)"
   ]
  },
  {
   "cell_type": "code",
   "execution_count": 64,
   "metadata": {},
   "outputs": [
    {
     "name": "stdout",
     "output_type": "stream",
     "text": [
      "[0 0 0 ... 0 0 1]\n"
     ]
    }
   ],
   "source": [
    "print(y_pred)\n"
   ]
  },
  {
   "cell_type": "code",
   "execution_count": 65,
   "metadata": {},
   "outputs": [],
   "source": [
    "test['is_promoted']=y_pred\n"
   ]
  },
  {
   "cell_type": "code",
   "execution_count": 66,
   "metadata": {},
   "outputs": [
    {
     "data": {
      "text/html": [
       "<div>\n",
       "<style scoped>\n",
       "    .dataframe tbody tr th:only-of-type {\n",
       "        vertical-align: middle;\n",
       "    }\n",
       "\n",
       "    .dataframe tbody tr th {\n",
       "        vertical-align: top;\n",
       "    }\n",
       "\n",
       "    .dataframe thead th {\n",
       "        text-align: right;\n",
       "    }\n",
       "</style>\n",
       "<table border=\"1\" class=\"dataframe\">\n",
       "  <thead>\n",
       "    <tr style=\"text-align: right;\">\n",
       "      <th></th>\n",
       "      <th>no_of_trainings</th>\n",
       "      <th>previous_year_rating</th>\n",
       "      <th>KPIs_met &gt;80%</th>\n",
       "      <th>awards_won?</th>\n",
       "      <th>avg_training_score</th>\n",
       "      <th>no_of_trainings_promoted</th>\n",
       "      <th>kpi_awards_trainingScore_promoted</th>\n",
       "      <th>age_log</th>\n",
       "      <th>length_of_service_log</th>\n",
       "      <th>age_service</th>\n",
       "      <th>...</th>\n",
       "      <th>recruitment_channel_sourcing</th>\n",
       "      <th>age_range_20-25</th>\n",
       "      <th>age_range_26-30</th>\n",
       "      <th>age_range_31-35</th>\n",
       "      <th>age_range_36-40</th>\n",
       "      <th>age_range_41-45</th>\n",
       "      <th>age_range_46-50</th>\n",
       "      <th>age_range_51-55</th>\n",
       "      <th>age_range_56-60</th>\n",
       "      <th>is_promoted</th>\n",
       "    </tr>\n",
       "  </thead>\n",
       "  <tbody>\n",
       "    <tr>\n",
       "      <th>0</th>\n",
       "      <td>1</td>\n",
       "      <td>3.0</td>\n",
       "      <td>1</td>\n",
       "      <td>0</td>\n",
       "      <td>77</td>\n",
       "      <td>1</td>\n",
       "      <td>1</td>\n",
       "      <td>3.178054</td>\n",
       "      <td>0.000000</td>\n",
       "      <td>0.958333</td>\n",
       "      <td>...</td>\n",
       "      <td>1</td>\n",
       "      <td>1</td>\n",
       "      <td>0</td>\n",
       "      <td>0</td>\n",
       "      <td>0</td>\n",
       "      <td>0</td>\n",
       "      <td>0</td>\n",
       "      <td>0</td>\n",
       "      <td>0</td>\n",
       "      <td>0</td>\n",
       "    </tr>\n",
       "    <tr>\n",
       "      <th>1</th>\n",
       "      <td>1</td>\n",
       "      <td>3.0</td>\n",
       "      <td>0</td>\n",
       "      <td>0</td>\n",
       "      <td>51</td>\n",
       "      <td>1</td>\n",
       "      <td>1</td>\n",
       "      <td>3.433987</td>\n",
       "      <td>1.609438</td>\n",
       "      <td>0.838710</td>\n",
       "      <td>...</td>\n",
       "      <td>0</td>\n",
       "      <td>0</td>\n",
       "      <td>0</td>\n",
       "      <td>1</td>\n",
       "      <td>0</td>\n",
       "      <td>0</td>\n",
       "      <td>0</td>\n",
       "      <td>0</td>\n",
       "      <td>0</td>\n",
       "      <td>0</td>\n",
       "    </tr>\n",
       "    <tr>\n",
       "      <th>2</th>\n",
       "      <td>1</td>\n",
       "      <td>1.0</td>\n",
       "      <td>0</td>\n",
       "      <td>0</td>\n",
       "      <td>47</td>\n",
       "      <td>1</td>\n",
       "      <td>1</td>\n",
       "      <td>3.433987</td>\n",
       "      <td>1.386294</td>\n",
       "      <td>0.870968</td>\n",
       "      <td>...</td>\n",
       "      <td>0</td>\n",
       "      <td>0</td>\n",
       "      <td>0</td>\n",
       "      <td>1</td>\n",
       "      <td>0</td>\n",
       "      <td>0</td>\n",
       "      <td>0</td>\n",
       "      <td>0</td>\n",
       "      <td>0</td>\n",
       "      <td>0</td>\n",
       "    </tr>\n",
       "    <tr>\n",
       "      <th>3</th>\n",
       "      <td>3</td>\n",
       "      <td>2.0</td>\n",
       "      <td>0</td>\n",
       "      <td>0</td>\n",
       "      <td>65</td>\n",
       "      <td>1</td>\n",
       "      <td>1</td>\n",
       "      <td>3.433987</td>\n",
       "      <td>2.197225</td>\n",
       "      <td>0.709677</td>\n",
       "      <td>...</td>\n",
       "      <td>0</td>\n",
       "      <td>0</td>\n",
       "      <td>0</td>\n",
       "      <td>1</td>\n",
       "      <td>0</td>\n",
       "      <td>0</td>\n",
       "      <td>0</td>\n",
       "      <td>0</td>\n",
       "      <td>0</td>\n",
       "      <td>0</td>\n",
       "    </tr>\n",
       "    <tr>\n",
       "      <th>4</th>\n",
       "      <td>1</td>\n",
       "      <td>4.0</td>\n",
       "      <td>0</td>\n",
       "      <td>0</td>\n",
       "      <td>61</td>\n",
       "      <td>1</td>\n",
       "      <td>1</td>\n",
       "      <td>3.401197</td>\n",
       "      <td>1.945910</td>\n",
       "      <td>0.766667</td>\n",
       "      <td>...</td>\n",
       "      <td>1</td>\n",
       "      <td>0</td>\n",
       "      <td>1</td>\n",
       "      <td>0</td>\n",
       "      <td>0</td>\n",
       "      <td>0</td>\n",
       "      <td>0</td>\n",
       "      <td>0</td>\n",
       "      <td>0</td>\n",
       "      <td>0</td>\n",
       "    </tr>\n",
       "  </tbody>\n",
       "</table>\n",
       "<p>5 rows × 42 columns</p>\n",
       "</div>"
      ],
      "text/plain": [
       "   no_of_trainings  previous_year_rating  KPIs_met >80%  awards_won?  \\\n",
       "0                1                   3.0              1            0   \n",
       "1                1                   3.0              0            0   \n",
       "2                1                   1.0              0            0   \n",
       "3                3                   2.0              0            0   \n",
       "4                1                   4.0              0            0   \n",
       "\n",
       "   avg_training_score  no_of_trainings_promoted  \\\n",
       "0                  77                         1   \n",
       "1                  51                         1   \n",
       "2                  47                         1   \n",
       "3                  65                         1   \n",
       "4                  61                         1   \n",
       "\n",
       "   kpi_awards_trainingScore_promoted   age_log  length_of_service_log  \\\n",
       "0                                  1  3.178054               0.000000   \n",
       "1                                  1  3.433987               1.609438   \n",
       "2                                  1  3.433987               1.386294   \n",
       "3                                  1  3.433987               2.197225   \n",
       "4                                  1  3.401197               1.945910   \n",
       "\n",
       "   age_service  ...  recruitment_channel_sourcing  age_range_20-25  \\\n",
       "0     0.958333  ...                             1                1   \n",
       "1     0.838710  ...                             0                0   \n",
       "2     0.870968  ...                             0                0   \n",
       "3     0.709677  ...                             0                0   \n",
       "4     0.766667  ...                             1                0   \n",
       "\n",
       "   age_range_26-30  age_range_31-35  age_range_36-40  age_range_41-45  \\\n",
       "0                0                0                0                0   \n",
       "1                0                1                0                0   \n",
       "2                0                1                0                0   \n",
       "3                0                1                0                0   \n",
       "4                1                0                0                0   \n",
       "\n",
       "   age_range_46-50  age_range_51-55  age_range_56-60  is_promoted  \n",
       "0                0                0                0            0  \n",
       "1                0                0                0            0  \n",
       "2                0                0                0            0  \n",
       "3                0                0                0            0  \n",
       "4                0                0                0            0  \n",
       "\n",
       "[5 rows x 42 columns]"
      ]
     },
     "execution_count": 66,
     "metadata": {},
     "output_type": "execute_result"
    }
   ],
   "source": [
    "test.head()"
   ]
  },
  {
   "cell_type": "code",
   "execution_count": 67,
   "metadata": {},
   "outputs": [
    {
     "data": {
      "text/html": [
       "<div>\n",
       "<style scoped>\n",
       "    .dataframe tbody tr th:only-of-type {\n",
       "        vertical-align: middle;\n",
       "    }\n",
       "\n",
       "    .dataframe tbody tr th {\n",
       "        vertical-align: top;\n",
       "    }\n",
       "\n",
       "    .dataframe thead th {\n",
       "        text-align: right;\n",
       "    }\n",
       "</style>\n",
       "<table border=\"1\" class=\"dataframe\">\n",
       "  <thead>\n",
       "    <tr style=\"text-align: right;\">\n",
       "      <th></th>\n",
       "      <th>no_of_trainings</th>\n",
       "      <th>previous_year_rating</th>\n",
       "      <th>KPIs_met &gt;80%</th>\n",
       "      <th>awards_won?</th>\n",
       "      <th>avg_training_score</th>\n",
       "      <th>no_of_trainings_promoted</th>\n",
       "      <th>kpi_awards_trainingScore_promoted</th>\n",
       "      <th>age_log</th>\n",
       "      <th>length_of_service_log</th>\n",
       "      <th>age_service</th>\n",
       "      <th>...</th>\n",
       "      <th>recruitment_channel_sourcing</th>\n",
       "      <th>age_range_20-25</th>\n",
       "      <th>age_range_26-30</th>\n",
       "      <th>age_range_31-35</th>\n",
       "      <th>age_range_36-40</th>\n",
       "      <th>age_range_41-45</th>\n",
       "      <th>age_range_46-50</th>\n",
       "      <th>age_range_51-55</th>\n",
       "      <th>age_range_56-60</th>\n",
       "      <th>is_promoted</th>\n",
       "    </tr>\n",
       "  </thead>\n",
       "  <tbody>\n",
       "    <tr>\n",
       "      <th>23485</th>\n",
       "      <td>1</td>\n",
       "      <td>3.0</td>\n",
       "      <td>0</td>\n",
       "      <td>0</td>\n",
       "      <td>61</td>\n",
       "      <td>1</td>\n",
       "      <td>1</td>\n",
       "      <td>3.178054</td>\n",
       "      <td>0.000000</td>\n",
       "      <td>0.958333</td>\n",
       "      <td>...</td>\n",
       "      <td>1</td>\n",
       "      <td>1</td>\n",
       "      <td>0</td>\n",
       "      <td>0</td>\n",
       "      <td>0</td>\n",
       "      <td>0</td>\n",
       "      <td>0</td>\n",
       "      <td>0</td>\n",
       "      <td>0</td>\n",
       "      <td>0</td>\n",
       "    </tr>\n",
       "    <tr>\n",
       "      <th>23486</th>\n",
       "      <td>1</td>\n",
       "      <td>3.0</td>\n",
       "      <td>0</td>\n",
       "      <td>0</td>\n",
       "      <td>74</td>\n",
       "      <td>1</td>\n",
       "      <td>1</td>\n",
       "      <td>3.433987</td>\n",
       "      <td>1.945910</td>\n",
       "      <td>0.774194</td>\n",
       "      <td>...</td>\n",
       "      <td>1</td>\n",
       "      <td>0</td>\n",
       "      <td>0</td>\n",
       "      <td>1</td>\n",
       "      <td>0</td>\n",
       "      <td>0</td>\n",
       "      <td>0</td>\n",
       "      <td>0</td>\n",
       "      <td>0</td>\n",
       "      <td>0</td>\n",
       "    </tr>\n",
       "    <tr>\n",
       "      <th>23487</th>\n",
       "      <td>1</td>\n",
       "      <td>4.0</td>\n",
       "      <td>0</td>\n",
       "      <td>0</td>\n",
       "      <td>50</td>\n",
       "      <td>1</td>\n",
       "      <td>1</td>\n",
       "      <td>3.258097</td>\n",
       "      <td>1.386294</td>\n",
       "      <td>0.846154</td>\n",
       "      <td>...</td>\n",
       "      <td>1</td>\n",
       "      <td>0</td>\n",
       "      <td>1</td>\n",
       "      <td>0</td>\n",
       "      <td>0</td>\n",
       "      <td>0</td>\n",
       "      <td>0</td>\n",
       "      <td>0</td>\n",
       "      <td>0</td>\n",
       "      <td>0</td>\n",
       "    </tr>\n",
       "    <tr>\n",
       "      <th>23488</th>\n",
       "      <td>3</td>\n",
       "      <td>3.0</td>\n",
       "      <td>0</td>\n",
       "      <td>0</td>\n",
       "      <td>70</td>\n",
       "      <td>1</td>\n",
       "      <td>1</td>\n",
       "      <td>3.295837</td>\n",
       "      <td>0.000000</td>\n",
       "      <td>0.962963</td>\n",
       "      <td>...</td>\n",
       "      <td>1</td>\n",
       "      <td>0</td>\n",
       "      <td>1</td>\n",
       "      <td>0</td>\n",
       "      <td>0</td>\n",
       "      <td>0</td>\n",
       "      <td>0</td>\n",
       "      <td>0</td>\n",
       "      <td>0</td>\n",
       "      <td>0</td>\n",
       "    </tr>\n",
       "    <tr>\n",
       "      <th>23489</th>\n",
       "      <td>3</td>\n",
       "      <td>5.0</td>\n",
       "      <td>1</td>\n",
       "      <td>0</td>\n",
       "      <td>89</td>\n",
       "      <td>1</td>\n",
       "      <td>1</td>\n",
       "      <td>3.688879</td>\n",
       "      <td>1.609438</td>\n",
       "      <td>0.875000</td>\n",
       "      <td>...</td>\n",
       "      <td>0</td>\n",
       "      <td>0</td>\n",
       "      <td>0</td>\n",
       "      <td>0</td>\n",
       "      <td>1</td>\n",
       "      <td>0</td>\n",
       "      <td>0</td>\n",
       "      <td>0</td>\n",
       "      <td>0</td>\n",
       "      <td>1</td>\n",
       "    </tr>\n",
       "  </tbody>\n",
       "</table>\n",
       "<p>5 rows × 42 columns</p>\n",
       "</div>"
      ],
      "text/plain": [
       "       no_of_trainings  previous_year_rating  KPIs_met >80%  awards_won?  \\\n",
       "23485                1                   3.0              0            0   \n",
       "23486                1                   3.0              0            0   \n",
       "23487                1                   4.0              0            0   \n",
       "23488                3                   3.0              0            0   \n",
       "23489                3                   5.0              1            0   \n",
       "\n",
       "       avg_training_score  no_of_trainings_promoted  \\\n",
       "23485                  61                         1   \n",
       "23486                  74                         1   \n",
       "23487                  50                         1   \n",
       "23488                  70                         1   \n",
       "23489                  89                         1   \n",
       "\n",
       "       kpi_awards_trainingScore_promoted   age_log  length_of_service_log  \\\n",
       "23485                                  1  3.178054               0.000000   \n",
       "23486                                  1  3.433987               1.945910   \n",
       "23487                                  1  3.258097               1.386294   \n",
       "23488                                  1  3.295837               0.000000   \n",
       "23489                                  1  3.688879               1.609438   \n",
       "\n",
       "       age_service  ...  recruitment_channel_sourcing  age_range_20-25  \\\n",
       "23485     0.958333  ...                             1                1   \n",
       "23486     0.774194  ...                             1                0   \n",
       "23487     0.846154  ...                             1                0   \n",
       "23488     0.962963  ...                             1                0   \n",
       "23489     0.875000  ...                             0                0   \n",
       "\n",
       "       age_range_26-30  age_range_31-35  age_range_36-40  age_range_41-45  \\\n",
       "23485                0                0                0                0   \n",
       "23486                0                1                0                0   \n",
       "23487                1                0                0                0   \n",
       "23488                1                0                0                0   \n",
       "23489                0                0                1                0   \n",
       "\n",
       "       age_range_46-50  age_range_51-55  age_range_56-60  is_promoted  \n",
       "23485                0                0                0            0  \n",
       "23486                0                0                0            0  \n",
       "23487                0                0                0            0  \n",
       "23488                0                0                0            0  \n",
       "23489                0                0                0            1  \n",
       "\n",
       "[5 rows x 42 columns]"
      ]
     },
     "execution_count": 67,
     "metadata": {},
     "output_type": "execute_result"
    }
   ],
   "source": [
    "test.tail()"
   ]
  },
  {
   "cell_type": "code",
   "execution_count": null,
   "metadata": {},
   "outputs": [],
   "source": []
  }
 ],
 "metadata": {
  "kernelspec": {
   "display_name": "Python 3",
   "language": "python",
   "name": "python3"
  },
  "language_info": {
   "codemirror_mode": {
    "name": "ipython",
    "version": 3
   },
   "file_extension": ".py",
   "mimetype": "text/x-python",
   "name": "python",
   "nbconvert_exporter": "python",
   "pygments_lexer": "ipython3",
   "version": "3.7.6"
  }
 },
 "nbformat": 4,
 "nbformat_minor": 4
}
